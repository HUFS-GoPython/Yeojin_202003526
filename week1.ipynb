{
 "cells": [
  {
   "cell_type": "markdown",
   "id": "aac500a9",
   "metadata": {},
   "source": [
    "# 프로그래밍:\n",
    "- 프로그래밍 언어를 사용하여 프로그래밍을 개발하는 것\n",
    "- 논리적인 사고를 가질 수 있음.\n",
    "\n",
    "# programming language:\n",
    "- 프로그램을 개발할 때 사용하는 도구\n",
    "- 인간이 원하는 것을 컴퓨터에게 명령할 때 사용하는 컴퓨터가 이해할 수 있는 언어\n",
    "- ex.java, python, c...\n",
    "\n",
    "# 파이썬\n",
    "- 간결하고 쉽다.(직관적이다)\n",
    "- 라이브러리가 많다.\n"
   ]
  },
  {
   "cell_type": "markdown",
   "id": "d1da50f5",
   "metadata": {},
   "source": [
    "# Chapter 2. Data: Types, Values, Variables, and Names"
   ]
  },
  {
   "cell_type": "code",
   "execution_count": 5,
   "id": "18f411a8",
   "metadata": {},
   "outputs": [],
   "source": [
    "a = 2"
   ]
  },
  {
   "cell_type": "markdown",
   "id": "f4788bb7",
   "metadata": {},
   "source": [
    "- 변수(variable) : 특정 값을 저장하는 공간 : a\n",
    "- 값(value) : 2\n",
    "- 할당하다 (assign) : 변수에 값을 넣는 과정 : \"2를 a에 넣었다.\"\n",
    "***a는 2다. a == 2\n",
    "\n",
    "- 자료형(type) : 데이터의 형태 >> a 데이터의 형태? : int"
   ]
  },
  {
   "cell_type": "code",
   "execution_count": 6,
   "id": "0983c016",
   "metadata": {},
   "outputs": [
    {
     "data": {
      "text/plain": [
       "int"
      ]
     },
     "execution_count": 6,
     "metadata": {},
     "output_type": "execute_result"
    }
   ],
   "source": [
    "type(a)"
   ]
  },
  {
   "cell_type": "code",
   "execution_count": 7,
   "id": "3621e2b8",
   "metadata": {},
   "outputs": [
    {
     "data": {
      "text/plain": [
       "bool"
      ]
     },
     "execution_count": 7,
     "metadata": {},
     "output_type": "execute_result"
    }
   ],
   "source": [
    "type(a == 2)"
   ]
  },
  {
   "cell_type": "markdown",
   "id": "b902f2b6",
   "metadata": {},
   "source": [
    "# Type\n",
    "\n",
    "- 다양한 변수 타입이 존재한다.\n",
    "\n",
    "- int: 정수(소수점이 없는 숫자)\n",
    "- float: 부동소수점(소수점이 존재하는 숫자)\n",
    "- str:문자열\n",
    "- bool: True/False : 참/거짓으로 구분되는 변수들을 말한다.\n",
    "\n",
    "*** apple != \"apple\""
   ]
  },
  {
   "cell_type": "code",
   "execution_count": 8,
   "id": "6ada3e2d",
   "metadata": {},
   "outputs": [
    {
     "name": "stdout",
     "output_type": "stream",
     "text": [
      "kim\n"
     ]
    }
   ],
   "source": [
    "name = \"kim\"\n",
    "print(name)"
   ]
  },
  {
   "cell_type": "markdown",
   "id": "33e41692",
   "metadata": {},
   "source": [
    "# 할당\n",
    "\n",
    "- '='를 사용\n",
    "- '==\"와 다르다.\n",
    "- 오른쪽 값을 왼쪽에 할당한다.\n",
    "- 오른쪽에 있는 모든 것은 값을 가져야 한다.(초기화)\n",
    "- 같은 변수에 다른 값을 넣을 수 있다."
   ]
  },
  {
   "cell_type": "code",
   "execution_count": 9,
   "id": "14a4ef95",
   "metadata": {},
   "outputs": [
    {
     "name": "stdout",
     "output_type": "stream",
     "text": [
      "4 7\n"
     ]
    }
   ],
   "source": [
    "x = 4 #초기화\n",
    "y = x + 3\n",
    "print(x, y)"
   ]
  },
  {
   "cell_type": "code",
   "execution_count": 12,
   "id": "76136e31",
   "metadata": {},
   "outputs": [
    {
     "name": "stdout",
     "output_type": "stream",
     "text": [
      "choi\n"
     ]
    }
   ],
   "source": [
    "name = 'kim'\n",
    "name = 'lee'\n",
    "name = 'park'\n",
    "name = 'choi'\n",
    "print(name)"
   ]
  },
  {
   "cell_type": "markdown",
   "id": "04175976",
   "metadata": {},
   "source": [
    "# 변수명 정하기\n",
    "\n",
    "- a,b,c,d,는 좋은 변수명이 아니다.\n",
    "- 타인이 바로 이해가능한 이름으로 변수명을 설정해야 한다.\n",
    "* 간결함과 명확성의 균형 유지가 중요하다.\n",
    "- 소문자, 대문자, 숫자, 언더바를 사용한다. \n",
    "***숫자로 시작 불가, 예약어 불가능(ex.def, False...), '-'는 사용 불가\n",
    "***주의: 특별한 용도가 있어서 사용시 주의가 필요하다.\n",
    "- 1.언더바로 시작하는 변수명\n",
    "- 2.더블 언더바로 시작하는 변수명\n",
    "- 3.전체 대문자\n",
    "\n",
    "예: name, name2, my_name, Name....."
   ]
  },
  {
   "cell_type": "code",
   "execution_count": 15,
   "id": "16ffd220",
   "metadata": {},
   "outputs": [],
   "source": [
    "name = 'kim'\n",
    "name1 = 'lee'\n",
    "my_name = 'yeonj'"
   ]
  },
  {
   "cell_type": "code",
   "execution_count": 16,
   "id": "9fb37b50",
   "metadata": {
    "scrolled": true
   },
   "outputs": [
    {
     "name": "stdout",
     "output_type": "stream",
     "text": [
      "\n",
      "Here is a list of the Python keywords.  Enter any keyword to get more help.\n",
      "\n",
      "False               break               for                 not\n",
      "None                class               from                or\n",
      "True                continue            global              pass\n",
      "__peg_parser__      def                 if                  raise\n",
      "and                 del                 import              return\n",
      "as                  elif                in                  try\n",
      "assert              else                is                  while\n",
      "async               except              lambda              with\n",
      "await               finally             nonlocal            yield\n",
      "\n"
     ]
    }
   ],
   "source": [
    "help('keywords')"
   ]
  },
  {
   "cell_type": "code",
   "execution_count": 17,
   "id": "1ff4ec1e",
   "metadata": {},
   "outputs": [
    {
     "name": "stdout",
     "output_type": "stream",
     "text": [
      "False\n"
     ]
    }
   ],
   "source": [
    "#변수명은 대소문자 구별해야!\n",
    "num = 43\n",
    "Num = 22\n",
    "print(num == Num)"
   ]
  },
  {
   "cell_type": "code",
   "execution_count": 18,
   "id": "3a87e536",
   "metadata": {},
   "outputs": [
    {
     "data": {
      "text/plain": [
       "True"
      ]
     },
     "execution_count": 18,
     "metadata": {},
     "output_type": "execute_result"
    }
   ],
   "source": [
    "num != Num"
   ]
  },
  {
   "cell_type": "markdown",
   "id": "f0400382",
   "metadata": {},
   "source": [
    "# 연습문제\n",
    "\n",
    "- 1 정수 99를 변수 prince에 할당하고 출력해보기\n",
    "- 2 값 5는 어떤 타입인가?\n",
    "- 3 값 2.0은 어떤 타입인가?\n",
    "- 4 표현식 5 + 2.0은 어떤 타입인가?"
   ]
  },
  {
   "cell_type": "code",
   "execution_count": 2,
   "id": "5f40d268",
   "metadata": {
    "scrolled": true
   },
   "outputs": [
    {
     "name": "stdout",
     "output_type": "stream",
     "text": [
      "99\n"
     ]
    }
   ],
   "source": [
    "#1.\n",
    "prince = 99\n",
    "print(prince)"
   ]
  },
  {
   "cell_type": "code",
   "execution_count": 3,
   "id": "e37f30ae",
   "metadata": {},
   "outputs": [
    {
     "data": {
      "text/plain": [
       "int"
      ]
     },
     "execution_count": 3,
     "metadata": {},
     "output_type": "execute_result"
    }
   ],
   "source": [
    "#2.\n",
    "type(5)"
   ]
  },
  {
   "cell_type": "code",
   "execution_count": 4,
   "id": "55399aa7",
   "metadata": {},
   "outputs": [
    {
     "data": {
      "text/plain": [
       "float"
      ]
     },
     "execution_count": 4,
     "metadata": {},
     "output_type": "execute_result"
    }
   ],
   "source": [
    "#3.\n",
    "type(2.0)"
   ]
  },
  {
   "cell_type": "code",
   "execution_count": 5,
   "id": "f10db792",
   "metadata": {},
   "outputs": [
    {
     "data": {
      "text/plain": [
       "float"
      ]
     },
     "execution_count": 5,
     "metadata": {},
     "output_type": "execute_result"
    }
   ],
   "source": [
    "#4.\n",
    "type(5 + 2.0)"
   ]
  }
 ],
 "metadata": {
  "kernelspec": {
   "display_name": "Python 3 (ipykernel)",
   "language": "python",
   "name": "python3"
  },
  "language_info": {
   "codemirror_mode": {
    "name": "ipython",
    "version": 3
   },
   "file_extension": ".py",
   "mimetype": "text/x-python",
   "name": "python",
   "nbconvert_exporter": "python",
   "pygments_lexer": "ipython3",
   "version": "3.9.7"
  }
 },
 "nbformat": 4,
 "nbformat_minor": 5
}
