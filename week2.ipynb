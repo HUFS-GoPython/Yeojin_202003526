{
 "cells": [
  {
   "cell_type": "markdown",
   "id": "f1c84a5c",
   "metadata": {},
   "source": [
    "# Ch2. Variable\n",
    "\n",
    "## 할당"
   ]
  },
  {
   "cell_type": "code",
   "execution_count": null,
   "id": "356e7da9",
   "metadata": {},
   "outputs": [],
   "source": [
    "# 여러 이름을 동시에 할당\n",
    "two = deux = dos = 2\n",
    "# dos > deux > two 순으로 할당된다."
   ]
  },
  {
   "cell_type": "code",
   "execution_count": null,
   "id": "903c8b0e",
   "metadata": {},
   "outputs": [],
   "source": [
    "#불변 객체의 특징\n",
    "\n",
    "two = 4\n",
    "print(two, deux)\n",
    "# deux에 할당된 값은 2 그대로이다."
   ]
  },
  {
   "cell_type": "code",
   "execution_count": 1,
   "id": "92239d37",
   "metadata": {},
   "outputs": [
    {
     "name": "stdout",
     "output_type": "stream",
     "text": [
      "4 2\n"
     ]
    },
    {
     "data": {
      "text/plain": [
       "(2830057433488, 2830057433424)"
      ]
     },
     "execution_count": 1,
     "metadata": {},
     "output_type": "execute_result"
    }
   ],
   "source": [
    "two = deux = dos = 2\n",
    "two = 4\n",
    "print(two, deux)\n",
    "id(two), id(deux)"
   ]
  },
  {
   "cell_type": "code",
   "execution_count": 7,
   "id": "810f4a6d",
   "metadata": {
    "scrolled": false
   },
   "outputs": [
    {
     "name": "stdout",
     "output_type": "stream",
     "text": [
      "[1, 2, 3] [1, 2, 3]\n"
     ]
    },
    {
     "data": {
      "text/plain": [
       "(2830137405504, 2830137405504)"
      ]
     },
     "execution_count": 7,
     "metadata": {},
     "output_type": "execute_result"
    }
   ],
   "source": [
    "a = [1,2, 3]\n",
    "#리스트는 가변객체\n",
    "b = a\n",
    "print(a, b)\n",
    "id(a), id(b)\n",
    "#id: 컴퓨터 메모리 내에 해당 값이 존재하는 공간을 찾을 때 사용"
   ]
  },
  {
   "cell_type": "markdown",
   "id": "96644fa7",
   "metadata": {},
   "source": [
    "# 변수명\n",
    "\n",
    "- 간결하고 명확해야 좋은 이름이다.\n",
    "- 코드에는 의미를 함축, 주석에는 의도를 담아야한다."
   ]
  },
  {
   "cell_type": "markdown",
   "id": "666b8e27",
   "metadata": {},
   "source": [
    "# 자료형, 형 변환\n",
    "\n",
    "- int,str,float,bool"
   ]
  },
  {
   "cell_type": "markdown",
   "id": "eb31d981",
   "metadata": {},
   "source": [
    "str(<변환하고자 하는 값>), int(), float().....\n",
    "\n",
    "## 주의1\n",
    "float > int"
   ]
  },
  {
   "cell_type": "code",
   "execution_count": 8,
   "id": "308d7054",
   "metadata": {},
   "outputs": [
    {
     "data": {
      "text/plain": [
       "True"
      ]
     },
     "execution_count": 8,
     "metadata": {},
     "output_type": "execute_result"
    }
   ],
   "source": [
    "a = 10\n",
    "\n",
    "str(a)\n",
    "float(a)\n",
    "bool(a)"
   ]
  },
  {
   "cell_type": "code",
   "execution_count": 9,
   "id": "5f67b270",
   "metadata": {},
   "outputs": [
    {
     "data": {
      "text/plain": [
       "10"
      ]
     },
     "execution_count": 9,
     "metadata": {},
     "output_type": "execute_result"
    }
   ],
   "source": [
    "#float > int 변환 시 소수점 버린 형태로 출력된다.\n",
    "\n",
    "a = 10.7\n",
    "int(a)"
   ]
  },
  {
   "cell_type": "code",
   "execution_count": 1,
   "id": "fecb3c9a",
   "metadata": {},
   "outputs": [
    {
     "name": "stdout",
     "output_type": "stream",
     "text": [
      "12\n"
     ]
    }
   ],
   "source": [
    "x = 4.6\n",
    "y = 7.9\n",
    "\n",
    "print(int(x + y)) #12.xx"
   ]
  },
  {
   "cell_type": "code",
   "execution_count": 2,
   "id": "e5cb3e22",
   "metadata": {},
   "outputs": [
    {
     "name": "stdout",
     "output_type": "stream",
     "text": [
      "11\n"
     ]
    }
   ],
   "source": [
    "print(int(x) + int(y)) #4+7"
   ]
  },
  {
   "cell_type": "code",
   "execution_count": 8,
   "id": "65fe5fb6",
   "metadata": {},
   "outputs": [
    {
     "name": "stdout",
     "output_type": "stream",
     "text": [
      "88\n"
     ]
    },
    {
     "data": {
      "text/plain": [
       "int"
      ]
     },
     "execution_count": 8,
     "metadata": {},
     "output_type": "execute_result"
    }
   ],
   "source": [
    "#str >> int 는 가능\n",
    "a = int(88.3)\n",
    "print(a)\n",
    "type(a)"
   ]
  },
  {
   "cell_type": "markdown",
   "id": "0cfbf247",
   "metadata": {},
   "source": [
    "### float >> int로 바꾸려 하면 오류 발생함 >> 같은 형식으로 바꿔주기 "
   ]
  },
  {
   "cell_type": "code",
   "execution_count": 10,
   "id": "a821bdaf",
   "metadata": {
    "scrolled": false
   },
   "outputs": [
    {
     "ename": "ValueError",
     "evalue": "invalid literal for int() with base 10: '88.3'",
     "output_type": "error",
     "traceback": [
      "\u001b[1;31m---------------------------------------------------------------------------\u001b[0m",
      "\u001b[1;31mValueError\u001b[0m                                Traceback (most recent call last)",
      "\u001b[1;32m~\\AppData\\Local\\Temp/ipykernel_13828/3539711498.py\u001b[0m in \u001b[0;36m<module>\u001b[1;34m\u001b[0m\n\u001b[0;32m      1\u001b[0m \u001b[0mp\u001b[0m \u001b[1;33m=\u001b[0m \u001b[1;34m'88.3'\u001b[0m\u001b[1;33m\u001b[0m\u001b[1;33m\u001b[0m\u001b[0m\n\u001b[1;32m----> 2\u001b[1;33m \u001b[0mint\u001b[0m\u001b[1;33m(\u001b[0m\u001b[0mp\u001b[0m\u001b[1;33m)\u001b[0m\u001b[1;33m\u001b[0m\u001b[1;33m\u001b[0m\u001b[0m\n\u001b[0m",
      "\u001b[1;31mValueError\u001b[0m: invalid literal for int() with base 10: '88.3'"
     ]
    }
   ],
   "source": [
    "p = '88.3'\n",
    "int(p)"
   ]
  },
  {
   "cell_type": "code",
   "execution_count": 11,
   "id": "0c68425f",
   "metadata": {},
   "outputs": [
    {
     "data": {
      "text/plain": [
       "88.3"
      ]
     },
     "execution_count": 11,
     "metadata": {},
     "output_type": "execute_result"
    }
   ],
   "source": [
    "float(p)"
   ]
  },
  {
   "cell_type": "markdown",
   "id": "99c540fa",
   "metadata": {},
   "source": [
    "# 꿀TIP\n",
    "\n",
    "## print()"
   ]
  },
  {
   "cell_type": "code",
   "execution_count": 12,
   "id": "b91dd343",
   "metadata": {},
   "outputs": [
    {
     "name": "stdout",
     "output_type": "stream",
     "text": [
      "orange apple tomato\n",
      "the next line\n"
     ]
    }
   ],
   "source": [
    "print('orange', 'apple', 'tomato')\n",
    "#default : 띄어쓰기, 줄바꾸기\n",
    "print(\"the next line\")"
   ]
  },
  {
   "cell_type": "code",
   "execution_count": 14,
   "id": "0123491b",
   "metadata": {},
   "outputs": [
    {
     "name": "stdout",
     "output_type": "stream",
     "text": [
      "orangeappletomato\n",
      "orangeappletomato\n",
      "orangeappletomato\n",
      "\n",
      "EOL\n"
     ]
    }
   ],
   "source": [
    "orange = 'orange'\n",
    "apple = 'apple'\n",
    "tomato = 'tomato'\n",
    "\n",
    "#1.\n",
    "print(orange + apple + tomato)\n",
    "# + 는 연결 가능하지만 원소들간 공백 사라짐\n",
    "print(orange, apple, tomato, sep = '', end = '\\n')\n",
    "#default\n",
    "print(orange, apple, tomato, sep = '', end = '\\n\\n')\n",
    "print('EOL')"
   ]
  },
  {
   "cell_type": "code",
   "execution_count": 18,
   "id": "a6dd1946",
   "metadata": {},
   "outputs": [],
   "source": [
    "#라인 없는 경우 >> ;\n",
    "\n",
    "orange = 'orange' ; apple = 'apple' ; tomato = 'toamto' ;"
   ]
  },
  {
   "cell_type": "code",
   "execution_count": 19,
   "id": "879dbfc6",
   "metadata": {},
   "outputs": [
    {
     "name": "stdout",
     "output_type": "stream",
     "text": [
      "5\n"
     ]
    }
   ],
   "source": [
    "num = 5 ; print(num)"
   ]
  },
  {
   "cell_type": "markdown",
   "id": "1dea17e0",
   "metadata": {},
   "source": [
    "# input()\n",
    "\n",
    "\n",
    "- console 에서 사용자에게 값을 입력받는 함수 (입출력 관련)\n",
    "- 입력 받는 값 타입 문자열 (str)\n",
    "- 입력 받은 값을 변수에 담아서 사용한다.\n",
    "- 숫자인 경우 형 변환 해야한다."
   ]
  },
  {
   "cell_type": "code",
   "execution_count": 20,
   "id": "42f78125",
   "metadata": {},
   "outputs": [
    {
     "name": "stdout",
     "output_type": "stream",
     "text": [
      "What's your name?'choi'\n"
     ]
    },
    {
     "data": {
      "text/plain": [
       "\"'choi'\""
      ]
     },
     "execution_count": 20,
     "metadata": {},
     "output_type": "execute_result"
    }
   ],
   "source": [
    "#1.\n",
    "input(\"What's your name?\")"
   ]
  },
  {
   "cell_type": "code",
   "execution_count": 21,
   "id": "76f04875",
   "metadata": {},
   "outputs": [
    {
     "name": "stdout",
     "output_type": "stream",
     "text": [
      "What's your name?\n",
      "choi\n"
     ]
    }
   ],
   "source": [
    "#2.\n",
    "print(\"What's your name?\")\n",
    "name = input()"
   ]
  },
  {
   "cell_type": "markdown",
   "id": "67805fe6",
   "metadata": {},
   "source": [
    "* input은 str >> 다른 타입으로 사용하고 싶을 때 >> 형 변환 미리 해두기"
   ]
  },
  {
   "cell_type": "code",
   "execution_count": 22,
   "id": "f42636c8",
   "metadata": {},
   "outputs": [
    {
     "name": "stdout",
     "output_type": "stream",
     "text": [
      "How old are you?13\n"
     ]
    }
   ],
   "source": [
    "age = input(\"How old are you?\")"
   ]
  },
  {
   "cell_type": "code",
   "execution_count": 23,
   "id": "7a13f77f",
   "metadata": {},
   "outputs": [
    {
     "data": {
      "text/plain": [
       "str"
      ]
     },
     "execution_count": 23,
     "metadata": {},
     "output_type": "execute_result"
    }
   ],
   "source": [
    "type(age)"
   ]
  },
  {
   "cell_type": "code",
   "execution_count": 24,
   "id": "4b2b2879",
   "metadata": {},
   "outputs": [
    {
     "name": "stdout",
     "output_type": "stream",
     "text": [
      "How old are you?13\n"
     ]
    }
   ],
   "source": [
    "age = int(input(\"How old are you?\"))"
   ]
  },
  {
   "cell_type": "code",
   "execution_count": 25,
   "id": "bea9c6b5",
   "metadata": {},
   "outputs": [
    {
     "name": "stdout",
     "output_type": "stream",
     "text": [
      "당신이 태어난 해는 2010 입니다.\n"
     ]
    }
   ],
   "source": [
    "print('당신이 태어난 해는', 2022 - age + 1, '입니다.')"
   ]
  },
  {
   "cell_type": "code",
   "execution_count": null,
   "id": "e15ae439",
   "metadata": {},
   "outputs": [],
   "source": [
    "## printing"
   ]
  },
  {
   "cell_type": "code",
   "execution_count": 26,
   "id": "5caf738b",
   "metadata": {},
   "outputs": [
    {
     "name": "stdout",
     "output_type": "stream",
     "text": [
      "당신이 태어난 해는 2010년 입니다.\n"
     ]
    }
   ],
   "source": [
    "print(f'당신이 태어난 해는 {2022 - age + 1}년 입니다.')\n",
    "#print(f'{<variavle>}')"
   ]
  },
  {
   "cell_type": "markdown",
   "id": "ec35a8b8",
   "metadata": {},
   "source": [
    "## Quiz 1\n",
    "\n",
    "- 섭씨를 입력 받아서 화씨로 변환하기\n",
    "- \"섭씨 * 1.8 + 32 = 화씨\""
   ]
  },
  {
   "cell_type": "code",
   "execution_count": 77,
   "id": "cbc6a622",
   "metadata": {},
   "outputs": [
    {
     "name": "stdout",
     "output_type": "stream",
     "text": [
      "섭씨를 입력하시오: 5\n",
      "화씨 온도는 41.0도\n"
     ]
    }
   ],
   "source": [
    "c = float(input('섭씨를 입력하시오: '))\n",
    "f = c * 1.8 + 32 \n",
    "print(f'화씨 온도는 {f}도')"
   ]
  },
  {
   "cell_type": "markdown",
   "id": "50b89230",
   "metadata": {},
   "source": [
    "## Quiz 2\n",
    "\n",
    "- 택배 정보를 입력 받고 무게에 따른 값 산정하기\n",
    "- 수취인 성명:\n",
    "- 수취인 주소:\n",
    "- 배송비 : 3000원\n",
    "- 물건 비용 : <계산된 값> 원\n",
    "- 물건비용은 무게(g)*5\n",
    "- 입력 값 = 이름, 주소, 무게"
   ]
  },
  {
   "cell_type": "code",
   "execution_count": 30,
   "id": "411c44f6",
   "metadata": {},
   "outputs": [
    {
     "name": "stdout",
     "output_type": "stream",
     "text": [
      "이름\n",
      "최여진\n",
      "주소\n",
      "강서구\n",
      "무게(g)\n",
      "300\n"
     ]
    }
   ],
   "source": [
    "print('이름')\n",
    "name = str(input())\n",
    "\n",
    "print('주소')\n",
    "adress = str(input())\n",
    "#str 생략 가능\n",
    "\n",
    "print('무게(g)')\n",
    "gram = float(input())"
   ]
  },
  {
   "cell_type": "code",
   "execution_count": 31,
   "id": "4d9990be",
   "metadata": {},
   "outputs": [],
   "source": [
    "cost = 3000\n",
    "weight_cost = gram * 5\n",
    "total_charge = int(cost + weight_cost)"
   ]
  },
  {
   "cell_type": "code",
   "execution_count": 32,
   "id": "dd9784c1",
   "metadata": {},
   "outputs": [
    {
     "name": "stdout",
     "output_type": "stream",
     "text": [
      "수취인 성명 : 최여진\n",
      "수취인 주소: 강서구\n",
      "배송비: 3000\n",
      "물건 비용: 1500.0\n",
      "총 합계: 4500\n"
     ]
    }
   ],
   "source": [
    "print(f'수취인 성명 : {name}')\n",
    "print(f'수취인 주소: {adress}')\n",
    "print(f'배송비: {cost}')\n",
    "print(f'물건 비용: {weight_cost}')\n",
    "print(f'총 합계: {total_charge}')"
   ]
  },
  {
   "cell_type": "markdown",
   "id": "6c62f7b3",
   "metadata": {},
   "source": [
    "# Ch.03 Numbers"
   ]
  },
  {
   "cell_type": "markdown",
   "id": "8be50383",
   "metadata": {},
   "source": [
    "## boolean\n",
    "\n",
    "- True/False\n",
    "- False 인 값\n",
    "- if문 (조건식) : \"만약 어떤 값이 True면, ...\""
   ]
  },
  {
   "cell_type": "code",
   "execution_count": 33,
   "id": "526adebf",
   "metadata": {},
   "outputs": [
    {
     "data": {
      "text/plain": [
       "False"
      ]
     },
     "execution_count": 33,
     "metadata": {},
     "output_type": "execute_result"
    }
   ],
   "source": [
    "bool(0)\n",
    "#0은 항상 false"
   ]
  },
  {
   "cell_type": "code",
   "execution_count": 34,
   "id": "1e436de8",
   "metadata": {},
   "outputs": [
    {
     "data": {
      "text/plain": [
       "False"
      ]
     },
     "execution_count": 34,
     "metadata": {},
     "output_type": "execute_result"
    }
   ],
   "source": [
    "bool(None)"
   ]
  },
  {
   "cell_type": "code",
   "execution_count": 35,
   "id": "9e8bbcfa",
   "metadata": {},
   "outputs": [
    {
     "data": {
      "text/plain": [
       "False"
      ]
     },
     "execution_count": 35,
     "metadata": {},
     "output_type": "execute_result"
    }
   ],
   "source": [
    "bool('')"
   ]
  },
  {
   "cell_type": "markdown",
   "id": "fd920c7d",
   "metadata": {},
   "source": [
    "# Integer\n",
    "\n",
    "- 분수나 소수가 아닌 정수\n",
    "- 음수는 '-' 기호를 붙인다 \n",
    "- default = 양수\n",
    "- 숫자 앞에는 0을 쓰지 못한다.\n",
    "  ex. 05....\n",
    "  +)0bxxx...는 다른 진수 표현법\n",
    "- 숫자들 사이에 쉼표를 쓰면 오류 \n",
    " : 100,000(X) >> 100_000\n",
    "- 숫자 사이의 언더바는 인식하지 않는다. (무시)\n"
   ]
  },
  {
   "cell_type": "code",
   "execution_count": null,
   "id": "15e4534b",
   "metadata": {},
   "outputs": [],
   "source": [
    "# a = 09 >> 불가능"
   ]
  },
  {
   "cell_type": "code",
   "execution_count": 36,
   "id": "492d5414",
   "metadata": {},
   "outputs": [
    {
     "data": {
      "text/plain": [
       "-1"
      ]
     },
     "execution_count": 36,
     "metadata": {},
     "output_type": "execute_result"
    }
   ],
   "source": [
    "a = -50\n",
    "b = 49\n",
    "a + b"
   ]
  },
  {
   "cell_type": "markdown",
   "id": "4af5d116",
   "metadata": {},
   "source": [
    "# 연산자(operator)\n",
    "- +, -, *, /\n",
    "- 피연산자(operand : 1, 2 ...)\n",
    "- 수식(expression)"
   ]
  },
  {
   "cell_type": "code",
   "execution_count": 37,
   "id": "9525829c",
   "metadata": {},
   "outputs": [
    {
     "data": {
      "text/plain": [
       "6561"
      ]
     },
     "execution_count": 37,
     "metadata": {},
     "output_type": "execute_result"
    }
   ],
   "source": [
    "x = 9\n",
    "y = 4\n",
    "\n",
    "#연산\n",
    "x + y\n",
    "x - y\n",
    "x * y\n",
    "x / y\n",
    "x ** y #거듭제곱(exponential)"
   ]
  },
  {
   "cell_type": "markdown",
   "id": "c0965d2c",
   "metadata": {},
   "source": [
    "## 나눗셈 = 몫, 나머지 존재 (x/y)"
   ]
  },
  {
   "cell_type": "code",
   "execution_count": null,
   "id": "b637805f",
   "metadata": {},
   "outputs": [],
   "source": [
    "# x / y #결과물\n",
    "x // y #몫\n",
    "x % y #나머지"
   ]
  },
  {
   "cell_type": "code",
   "execution_count": 39,
   "id": "b4225327",
   "metadata": {},
   "outputs": [
    {
     "data": {
      "text/plain": [
       "(2, 1)"
      ]
     },
     "execution_count": 39,
     "metadata": {},
     "output_type": "execute_result"
    }
   ],
   "source": [
    "divmod(x, y) #(몫, 나머지)"
   ]
  },
  {
   "cell_type": "markdown",
   "id": "3526415b",
   "metadata": {},
   "source": [
    "### division by zero 주의!"
   ]
  },
  {
   "cell_type": "code",
   "execution_count": 40,
   "id": "c945a7f4",
   "metadata": {},
   "outputs": [
    {
     "data": {
      "text/plain": [
       "20"
      ]
     },
     "execution_count": 40,
     "metadata": {},
     "output_type": "execute_result"
    }
   ],
   "source": [
    "1 + 9                                       + 10\n",
    "#숫자 간 공백 있어도 연산은 가능"
   ]
  },
  {
   "cell_type": "markdown",
   "id": "d9736de1",
   "metadata": {},
   "source": [
    "## 복합 대입 연산자(Compound Assigment Operator)"
   ]
  },
  {
   "cell_type": "code",
   "execution_count": 41,
   "id": "ccc3e427",
   "metadata": {},
   "outputs": [
    {
     "name": "stdout",
     "output_type": "stream",
     "text": [
      "5\n"
     ]
    }
   ],
   "source": [
    "x = 5\n",
    "x - 3\n",
    "print(x)"
   ]
  },
  {
   "cell_type": "markdown",
   "id": "54685796",
   "metadata": {},
   "source": [
    "## Quiz 1.\n",
    "\n",
    "- 반지름을 입력 받아 원의 면적 구하기\n",
    "- 면적 = pi*r 제곱\n",
    "\n",
    "## Quiz 2.\n",
    "\n",
    "- 숫자를 입력받고 3의 배수인지 확인하기\n",
    "- 숫자를 입력 받고 홀수인지 확인하기"
   ]
  },
  {
   "cell_type": "code",
   "execution_count": 42,
   "id": "40202857",
   "metadata": {},
   "outputs": [
    {
     "name": "stdout",
     "output_type": "stream",
     "text": [
      "반지름의 길이를 입력하세요: 5\n",
      "원의 넓이 =  78.5\n"
     ]
    }
   ],
   "source": [
    "r = float(input(\"반지름의 길이를 입력하세요: \"))\n",
    "area = 3.14 * r ** 2\n",
    "print(\"원의 넓이 = \", area)"
   ]
  },
  {
   "cell_type": "code",
   "execution_count": 43,
   "id": "f024e250",
   "metadata": {},
   "outputs": [
    {
     "name": "stdout",
     "output_type": "stream",
     "text": [
      "숫자를 입력하세요: 2\n",
      "홀수가 맞습니다.\n"
     ]
    }
   ],
   "source": [
    "num = int(input('숫자를 입력하세요: '))\n",
    "\n",
    "if num % 3 == 0 :\n",
    "    print('홀수가 아닙니다.')\n",
    "else:\n",
    "    print('홀수가 맞습니다.')\n",
    "    "
   ]
  },
  {
   "cell_type": "markdown",
   "id": "8f98375f",
   "metadata": {},
   "source": [
    "## 지수표현\n",
    "\n",
    "- ex. 1.0e-4\n",
    "- e의 앞부분은 소수, 정수 둘 다 가능함\n",
    "- 뒷부분은 정수여야 한다.\n",
    "- 뒷부분이 음수면 소수점 뒷자리 수를 의미함\n",
    "- e ,E"
   ]
  },
  {
   "cell_type": "code",
   "execution_count": 44,
   "id": "19d6a037",
   "metadata": {},
   "outputs": [
    {
     "data": {
      "text/plain": [
       "10000.0"
      ]
     },
     "execution_count": 44,
     "metadata": {},
     "output_type": "execute_result"
    }
   ],
   "source": [
    "1.0e4"
   ]
  },
  {
   "cell_type": "code",
   "execution_count": 46,
   "id": "98530003",
   "metadata": {},
   "outputs": [
    {
     "data": {
      "text/plain": [
       "0.0004005"
      ]
     },
     "execution_count": 46,
     "metadata": {},
     "output_type": "execute_result"
    }
   ],
   "source": [
    "# 0.0004005 >> 지수로 표현하기\n",
    "\n",
    "4.005e-4"
   ]
  },
  {
   "cell_type": "markdown",
   "id": "6212d488",
   "metadata": {},
   "source": [
    "## if 조건문\n",
    "\n",
    "### 코드 짜는 팁\n",
    "- 주석 달기\n",
    "> #hash, sharp....\n",
    "> #시작지점부터 라인 끝까지가 주석 처리됨. 라인이 바뀌면 코드로 인식\n",
    "- \"\"\" \"\"\" : 긴 주석\n",
    "- 문자열 안에 있는 sharp는 부호로 인식한다.\n",
    "> 코드에 대한 설명은 최대한 하지 않는다. 의도 표현... 오류..\n",
    "- 라인 유지하기\n",
    "- 들여쓰기 (default space 4개, 탭으 이용해서)\n",
    "- 논리 구조를 나타내기 때문에 굉장히 중요함.\n",
    "- 한 라인에 80자 정도 (백슬래시로 라인을 끊어준다)"
   ]
  },
  {
   "cell_type": "code",
   "execution_count": 49,
   "id": "f385fe0b",
   "metadata": {},
   "outputs": [
    {
     "name": "stdout",
     "output_type": "stream",
     "text": [
      "3\n"
     ]
    }
   ],
   "source": [
    "a = 3\n",
    "#주석입니다.\n",
    "\n",
    "\"\"\"\n",
    " 주석 1 \n",
    " 주석 2 \n",
    " 주석 3 \n",
    "\"\"\"\n",
    "\n",
    "print(a)"
   ]
  },
  {
   "cell_type": "code",
   "execution_count": 50,
   "id": "a1e66a0e",
   "metadata": {},
   "outputs": [
    {
     "name": "stdout",
     "output_type": "stream",
     "text": [
      "hey, there#\n"
     ]
    }
   ],
   "source": [
    "print('hey, there#')"
   ]
  },
  {
   "cell_type": "markdown",
   "id": "0d7f69be",
   "metadata": {},
   "source": [
    "## if\n",
    "\n",
    "- if:<실행할 코드>"
   ]
  },
  {
   "cell_type": "code",
   "execution_count": 51,
   "id": "8b952ee7",
   "metadata": {},
   "outputs": [
    {
     "name": "stdout",
     "output_type": "stream",
     "text": [
      "두 수는 같지 않다\n"
     ]
    }
   ],
   "source": [
    "if 3 != 1:\n",
    "    print(\"두 수는 같지 않다\")"
   ]
  },
  {
   "cell_type": "markdown",
   "id": "534a33a6",
   "metadata": {},
   "source": [
    "### if - else \n",
    "\n",
    "if <실행할 코드 1>:\n",
    "else <실행할 코드 2>:"
   ]
  },
  {
   "cell_type": "code",
   "execution_count": 52,
   "id": "45a99dab",
   "metadata": {},
   "outputs": [
    {
     "name": "stdout",
     "output_type": "stream",
     "text": [
      "두 수는 같지 않다\n"
     ]
    }
   ],
   "source": [
    "if 3 != 1 :\n",
    "    print(\"두 수는 같지 않다\")\n",
    "else:\n",
    "    print(\"두 수가 같다\")"
   ]
  },
  {
   "cell_type": "markdown",
   "id": "c4e35f30",
   "metadata": {},
   "source": [
    "### if - elif - else\n",
    "\n",
    "if <조건식 1>:\n",
    "    <실행할 코드 1>\n",
    "    \n",
    "elif <조건식 2>:\n",
    "    <실행할 코드 2>\n",
    "    \n",
    "else:\n",
    "    <실행할 코드3>\n",
    "\n"
   ]
  },
  {
   "cell_type": "code",
   "execution_count": 53,
   "id": "bf91748b",
   "metadata": {},
   "outputs": [
    {
     "name": "stdout",
     "output_type": "stream",
     "text": [
      "3보다 크다\n"
     ]
    }
   ],
   "source": [
    "a = 4\n",
    "\n",
    "if a < 3 :\n",
    "    print('3보다 작다')\n",
    "elif a == 2 :\n",
    "    print('3이다')\n",
    "else:\n",
    "    print('3보다 크다')"
   ]
  },
  {
   "cell_type": "code",
   "execution_count": 54,
   "id": "e3e2e94a",
   "metadata": {},
   "outputs": [],
   "source": [
    "if a < 3 :\n",
    "    print('3보다 작다')\n",
    "if a == 3 :\n",
    "    print('3이다')\n",
    "if a > 4 :\n",
    "    print('3보다 크다')"
   ]
  },
  {
   "cell_type": "markdown",
   "id": "be148b5b",
   "metadata": {},
   "source": [
    "# 비교연산자\n",
    "\n",
    "- x < y\n",
    "- x > y\n",
    "- x >= y\n",
    "- x <= y\n",
    "- x == y (값이 같다)\n",
    "- x != y\n",
    "- x is y (값, 메모리 주소)\n",
    "- x is not y"
   ]
  },
  {
   "cell_type": "markdown",
   "id": "fa9ce82d",
   "metadata": {},
   "source": [
    "# Quiz1\n",
    "\n",
    "- 시험 점수를 입력 받고, 80점 이상이면 True, 아니면 False 반환하기\n",
    "- 시험 점수를 입력 받고, 95점 이상 A+, 85점 이상 B+, 나머지 F로 출력하기"
   ]
  },
  {
   "cell_type": "code",
   "execution_count": 55,
   "id": "aba3dade",
   "metadata": {},
   "outputs": [
    {
     "name": "stdout",
     "output_type": "stream",
     "text": [
      "시험 점수를 입력하세요. : 90\n",
      "True\n"
     ]
    }
   ],
   "source": [
    "score = int(input('시험 점수를 입력하세요. : '))\n",
    "if score > 80 :\n",
    "    print('True')\n",
    "else:\n",
    "    print('False')"
   ]
  },
  {
   "cell_type": "code",
   "execution_count": 56,
   "id": "e13f7ca3",
   "metadata": {},
   "outputs": [
    {
     "name": "stdout",
     "output_type": "stream",
     "text": [
      "시험 점수를 입력하세요: 91\n",
      "A\n"
     ]
    }
   ],
   "source": [
    "score = int(input('시험 점수를 입력하세요: '))\n",
    "if score >= 95 :\n",
    "    print('A+')\n",
    "elif score >= 90:\n",
    "    print('A')\n",
    "elif score >= 85:\n",
    "    print('B+')\n",
    "else:\n",
    "    print('F')"
   ]
  },
  {
   "cell_type": "markdown",
   "id": "4f0eaefc",
   "metadata": {},
   "source": [
    "# Quiz2\n",
    "\n",
    "- 아이디와 비번 입력 받아서 둘다 일치하면 로그인하기\n",
    "- 아이디, 비번 각자 정해놓기\n",
    "- 일치하지 않을 때에는 창의적으로 어떤 걸로 반환하기"
   ]
  },
  {
   "cell_type": "code",
   "execution_count": null,
   "id": "156ed96c",
   "metadata": {},
   "outputs": [],
   "source": [
    "my_id = 'boo'\n",
    "my_pw = '1004'\n",
    "\n",
    "id = input('아이디를 입력하세요: ')\n",
    "pw = input('비밀번호를 입력하세요: ')\n",
    "\n",
    "if my_id == id :\n",
    "    if pw == my_pw :\n",
    "        print('로그인되었습니다.')\n",
    "        \n",
    "    else:\n",
    "        print('비밀번호를 확인하세요')\n",
    "else:\n",
    "    print('존재하지 않는 아이디입니다.')\n"
   ]
  },
  {
   "cell_type": "markdown",
   "id": "634e902a",
   "metadata": {},
   "source": [
    "# 논리 연산자\n",
    "\n",
    "- and, & : 둘다 참인 경우 True\n",
    "- or : 둘 중 하나만 참이어도 True\n",
    "- not : 참 > False, 거짓 > True"
   ]
  },
  {
   "cell_type": "markdown",
   "id": "544ddab2",
   "metadata": {},
   "source": [
    "# 연습문제1\n",
    "\n",
    "- 3.1 1시간은 몇 초인가? 대화식 인터프리터를 계산기로 사용해서 1시간(60분)에 1분(60초)을 곱하기\n",
    "- 3.2 계산한 결과를 seconds_per_hour 변수에 저장\n",
    "- 3.3 1일은 몇 초인가? seconds_per_hour 변수를 사용\n",
    "- 3.4 계산한 결과를 seconds_per_day 변수에 저장\n",
    "- 3.5 부동소수점(/) 나눗셈을 사용해서 seconds_per_day를 seconds_per_hour로 나누기\n",
    "- 3.6 정수(//) 나눗셈을 사용해서 seconds_per_day를 seconds_per_hour로 나누기. \n",
    "- 3.7 3.5 문제 결과에서 본.0 부분을 제외하고 결과가 같은가"
   ]
  },
  {
   "cell_type": "code",
   "execution_count": 57,
   "id": "9414388c",
   "metadata": {},
   "outputs": [
    {
     "name": "stdout",
     "output_type": "stream",
     "text": [
      "3600\n"
     ]
    }
   ],
   "source": [
    "# 3.1\n",
    "print(60*60)"
   ]
  },
  {
   "cell_type": "code",
   "execution_count": 71,
   "id": "82717a36",
   "metadata": {},
   "outputs": [
    {
     "name": "stdout",
     "output_type": "stream",
     "text": [
      "86400\n"
     ]
    }
   ],
   "source": [
    "#3.2\n",
    "seconds_per_hour = 3600\n",
    "\n",
    "#3.3\n",
    "print(24 * seconds_per_hour)"
   ]
  },
  {
   "cell_type": "code",
   "execution_count": 72,
   "id": "c7d092af",
   "metadata": {},
   "outputs": [
    {
     "data": {
      "text/plain": [
       "True"
      ]
     },
     "execution_count": 72,
     "metadata": {},
     "output_type": "execute_result"
    }
   ],
   "source": [
    "#3.4\n",
    "seconds_per_day = 86400\n",
    "\n",
    "#3.5\n",
    "r1 = seconds_per_day / seconds_per_hour\n",
    "\n",
    "#3.6\n",
    "r2 = seconds_per_day // seconds_per_hour\n",
    "\n",
    "#3.7\n",
    "bool(r1 == r2)"
   ]
  },
  {
   "cell_type": "markdown",
   "id": "8faa87a2",
   "metadata": {},
   "source": [
    "# 연습문제2\n",
    "\n",
    "- 4.1 1~10 사이의 숫자를 선택해서 secret 변수에 할당. 그리고 1~10 사이의 다른 숫자를 선택해서 guess 변수에 할당. if, elif, else 문을 사용하여 guess 변수가 secret 변수보다 작으면 'too low', 크면 'too high, 일치하면 'just right'를 출력\n",
    "\n",
    "- 4.2 True나 False를 small과 green 변수에 할당. if, else 문을 사용하여 작은 것(small)과 녹색(green)을 기준으로 체리, 완두콩, 수박, 호박(cherry, pea, watermelon, pumpkin)을 출력해보기 (예: 체리는 작고 녹색이 아님, 완두콩은 작고 녹색, 수박은 크고 녹색, 호박은 크고 녹색이 아님)"
   ]
  },
  {
   "cell_type": "code",
   "execution_count": 73,
   "id": "c458ee89",
   "metadata": {},
   "outputs": [
    {
     "name": "stdout",
     "output_type": "stream",
     "text": [
      "1~10 사이의 숫자를 선택하세요: 4\n",
      "1~10 사이의 다른 숫자를 선택하세요: 5\n",
      "too high\n"
     ]
    }
   ],
   "source": [
    "#4.1\n",
    "\n",
    "secret = int(input('1~10 사이의 숫자를 선택하세요: '))\n",
    "guess = int(input('1~10 사이의 다른 숫자를 선택하세요: '))\n",
    "\n",
    "if guess < secret :\n",
    "    print('too low')\n",
    "elif guess > secret :\n",
    "    print('too high')\n",
    "else :\n",
    "    print('just right')"
   ]
  },
  {
   "cell_type": "code",
   "execution_count": 74,
   "id": "ca5135d4",
   "metadata": {},
   "outputs": [
    {
     "name": "stdout",
     "output_type": "stream",
     "text": [
      "작다면 True, 작지 않다면 False를 입력하세요: True\n",
      "초록색이라면 True, 그렇지 않다면 False를 선택하세요: True\n",
      "pumpkin\n"
     ]
    }
   ],
   "source": [
    "#4.2\n",
    "\n",
    "small = input('작다면 True, 작지 않다면 False를 입력하세요: ')\n",
    "green = input('초록색이라면 True, 그렇지 않다면 False를 선택하세요: ')\n",
    "\n",
    "if small == True and green == True :\n",
    "    print('pea')\n",
    "elif small != True and green == True :\n",
    "    print('watermelon')\n",
    "elif small == True and green != True :\n",
    "    print('cherry')\n",
    "else:\n",
    "    print('pumpkin')\n",
    "    "
   ]
  }
 ],
 "metadata": {
  "kernelspec": {
   "display_name": "Python 3 (ipykernel)",
   "language": "python",
   "name": "python3"
  },
  "language_info": {
   "codemirror_mode": {
    "name": "ipython",
    "version": 3
   },
   "file_extension": ".py",
   "mimetype": "text/x-python",
   "name": "python",
   "nbconvert_exporter": "python",
   "pygments_lexer": "ipython3",
   "version": "3.9.7"
  }
 },
 "nbformat": 4,
 "nbformat_minor": 5
}
