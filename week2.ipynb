{
 "cells": [
  {
   "cell_type": "markdown",
   "id": "f1c84a5c",
   "metadata": {},
   "source": [
    "# Ch2. Variable\n",
    "\n",
    "## 할당"
   ]
  },
  {
   "cell_type": "code",
   "execution_count": null,
   "id": "356e7da9",
   "metadata": {},
   "outputs": [],
   "source": [
    "# 여러 이름을 동시에 할당\n",
    "two = deux = dos = 2\n",
    "# dos > deux > two 순으로 할당된다."
   ]
  },
  {
   "cell_type": "code",
   "execution_count": null,
   "id": "903c8b0e",
   "metadata": {},
   "outputs": [],
   "source": [
    "#불변 객체의 특징\n",
    "\n",
    "two = 4\n",
    "print(two, deux)\n",
    "# deux에 할당된 값은 2 그대로이다."
   ]
  },
  {
   "cell_type": "code",
   "execution_count": 1,
   "id": "92239d37",
   "metadata": {},
   "outputs": [
    {
     "name": "stdout",
     "output_type": "stream",
     "text": [
      "4 2\n"
     ]
    },
    {
     "data": {
      "text/plain": [
       "(2830057433488, 2830057433424)"
      ]
     },
     "execution_count": 1,
     "metadata": {},
     "output_type": "execute_result"
    }
   ],
   "source": [
    "two = deux = dos = 2\n",
    "two = 4\n",
    "print(two, deux)\n",
    "id(two), id(deux)"
   ]
  },
  {
   "cell_type": "code",
   "execution_count": 7,
   "id": "810f4a6d",
   "metadata": {
    "scrolled": false
   },
   "outputs": [
    {
     "name": "stdout",
     "output_type": "stream",
     "text": [
      "[1, 2, 3] [1, 2, 3]\n"
     ]
    },
    {
     "data": {
      "text/plain": [
       "(2830137405504, 2830137405504)"
      ]
     },
     "execution_count": 7,
     "metadata": {},
     "output_type": "execute_result"
    }
   ],
   "source": [
    "a = [1,2, 3]\n",
    "#리스트는 가변객체\n",
    "b = a\n",
    "print(a, b)\n",
    "id(a), id(b)\n",
    "#id: 컴퓨터 메모리 내에 해당 값이 존재하는 공간을 찾을 때 사용"
   ]
  },
  {
   "cell_type": "markdown",
   "id": "96644fa7",
   "metadata": {},
   "source": [
    "# 변수명\n",
    "\n",
    "- 간결하고 명확해야 좋은 이름이다.\n",
    "- 코드에는 의미를 함축, 주석에는 의도를 담아야한다."
   ]
  },
  {
   "cell_type": "markdown",
   "id": "666b8e27",
   "metadata": {},
   "source": [
    "# 자료형, 형 변환"
   ]
  },
  {
   "cell_type": "markdown",
   "id": "eb31d981",
   "metadata": {},
   "source": [
    "str(<변환하고자 하는 값>), int(), float().....\n",
    "\n",
    "## 주의1\n",
    "float > int"
   ]
  },
  {
   "cell_type": "code",
   "execution_count": 8,
   "id": "308d7054",
   "metadata": {},
   "outputs": [
    {
     "data": {
      "text/plain": [
       "True"
      ]
     },
     "execution_count": 8,
     "metadata": {},
     "output_type": "execute_result"
    }
   ],
   "source": [
    "a = 10\n",
    "\n",
    "str(a)\n",
    "float(a)\n",
    "bool(a)"
   ]
  },
  {
   "cell_type": "code",
   "execution_count": 9,
   "id": "5f67b270",
   "metadata": {},
   "outputs": [
    {
     "data": {
      "text/plain": [
       "10"
      ]
     },
     "execution_count": 9,
     "metadata": {},
     "output_type": "execute_result"
    }
   ],
   "source": [
    "#float > int 변환 시 소수점 버린 형태로 출력된다.\n",
    "\n",
    "a = 10.7\n",
    "int(a)"
   ]
  }
 ],
 "metadata": {
  "kernelspec": {
   "display_name": "Python 3 (ipykernel)",
   "language": "python",
   "name": "python3"
  },
  "language_info": {
   "codemirror_mode": {
    "name": "ipython",
    "version": 3
   },
   "file_extension": ".py",
   "mimetype": "text/x-python",
   "name": "python",
   "nbconvert_exporter": "python",
   "pygments_lexer": "ipython3",
   "version": "3.9.7"
  }
 },
 "nbformat": 4,
 "nbformat_minor": 5
}
