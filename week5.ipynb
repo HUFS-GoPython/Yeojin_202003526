{
 "cells": [
  {
   "cell_type": "markdown",
   "id": "4d69d116",
   "metadata": {},
   "source": [
    "### Ex\n",
    "\n",
    "- 1.text6에서 길이가 4자 이하인 알파벳 중 ie를 포함하는 단어를 단어 개수로 출력하시오.\n",
    "    - 예: [1, 3, 4 ,3]\n",
    "- 2. text2에서 ch로 끝나는 단어를 출력하는데\n",
    "    - 중복 없고\n",
    "    - 첫 글자와 ch 남기고 가운데는 모두 -로 가려라.\n",
    "        ex. much >> m-ch\n",
    "        -ch로 시작하는 경우 바꾸면 안됨.\n",
    "    -정렬:\n",
    "        -문자길이로 정렬하기"
   ]
  },
  {
   "cell_type": "code",
   "execution_count": null,
   "id": "ada44a74",
   "metadata": {},
   "outputs": [],
   "source": [
    "# 1.text6에서 길이가 4자 이하인 알파벳 중 ie를 포함하는 단어를 단어 개수로 출력하시오.\n",
    "\n",
    "# [len(word) for word in text6 if len(word) <= 4 and 'ie' in text6]\n",
    "# 'ie' in text6이면 text6에 ie라는 단어가 있는지, ie를 포함한 단어가 있는지는 아니다.\n",
    "# 옳은 코드\n",
    "[len(word) for word in text6 if len(word) <= 4 and word.find('ie') != -1 ]"
   ]
  },
  {
   "cell_type": "code",
   "execution_count": null,
   "id": "0ba5007a",
   "metadata": {},
   "outputs": [],
   "source": [
    "# 2.\n",
    "word =list(set([word for word in text2 if word.endswith('ch')]))\n",
    "# set은 집합으로 순서가 없어 슬라이싱이 불가능하다 >> 튜플과 리스트는 순서가 있어 슬라이싱이 가능하다, set인 경우 슬라이싱이 불가능하다.\n",
    "# set만 하면 안되니 list로 마지막에 변환해줘야 한다.\n",
    "wanted = [wanted[0] + '-' * (len(wanted) - 3) + 'ch' for wanted in word]\n",
    "print(wanted)"
   ]
  },
  {
   "cell_type": "markdown",
   "id": "fe72f491",
   "metadata": {},
   "source": [
    "## 반복문\n",
    "\n",
    "- for, while\n",
    "\n",
    "### while\n",
    "\n",
    "- 어떤 조건이 만족할 때까지 블록 수행\n",
    "- 해당 조건이 거짓이면 수행을 멈춘다.\n",
    "    - 언제 빠져나오는지를 정확히 알아야 한다.\n",
    "- for + if\n",
    "- for문이 정해진 횟수만큼 반복한다면, while 문은 조건식이 true 일 경우에 계속해서 반복/조건식이 false가 되면 반복 행위를 멈추고 while문을 종료\n",
    "\n",
    "출처: https://webclub.tistory.com/166 [Web Club]\n",
    "\n",
    "\n",
    "#### for vs while\n",
    "- for loop: 반복 횟수 정확히 알고, 반복 횟수가 변하지 않을 때/ 배열과 함께 주로 사용\n",
    "    - 예: 전체 학생 성적 산출\n",
    "- while loop: 반복 횟수 정확하지 않고, 어떤 조건을 만족시킬 때 프로그램 종료하고 싶을때/주로 파일을 읽고 쓰기에 많이 사용\n",
    "    - 예: 가위바위보로 이기면 종료"
   ]
  },
  {
   "cell_type": "code",
   "execution_count": 1,
   "id": "aee0cf55",
   "metadata": {},
   "outputs": [
    {
     "name": "stdout",
     "output_type": "stream",
     "text": [
      "0\n",
      "1\n",
      "2\n",
      "3\n",
      "4\n",
      "5\n",
      "6\n",
      "7\n",
      "8\n",
      "9\n"
     ]
    }
   ],
   "source": [
    "for i in range(10):\n",
    "    print(i)"
   ]
  },
  {
   "cell_type": "code",
   "execution_count": 2,
   "id": "8006d282",
   "metadata": {},
   "outputs": [
    {
     "name": "stdout",
     "output_type": "stream",
     "text": [
      "0\n",
      "1\n",
      "2\n",
      "3\n",
      "4\n",
      "5\n",
      "6\n",
      "7\n",
      "8\n",
      "9\n"
     ]
    }
   ],
   "source": [
    "# while의 경우 변수 설정을 해줘야 해서 처음에 j = 0 을 꼭 해줘야 한다.\n",
    "j = 0\n",
    "while j < 10: # 0, 1, 2, 3, 4 .... 9\n",
    "    print(j)  # 0, 1, 2, 3, 4 .... 9\n",
    "    j += 1    #1, 2, 3, 4, 5 ..... 10\n",
    "    #현재의 j 값은 10이다."
   ]
  },
  {
   "cell_type": "code",
   "execution_count": 4,
   "id": "e6bfe326",
   "metadata": {},
   "outputs": [
    {
     "data": {
      "text/plain": [
       "10"
      ]
     },
     "execution_count": 4,
     "metadata": {},
     "output_type": "execute_result"
    }
   ],
   "source": [
    "j"
   ]
  },
  {
   "cell_type": "code",
   "execution_count": 7,
   "id": "43363bfd",
   "metadata": {},
   "outputs": [
    {
     "name": "stdout",
     "output_type": "stream",
     "text": [
      "a\n",
      "b\n",
      "c\n"
     ]
    }
   ],
   "source": [
    "characters = ['a', 'b', 'c']\n",
    "for ch in characters:\n",
    "    print(ch)"
   ]
  },
  {
   "cell_type": "code",
   "execution_count": 8,
   "id": "7d8dc6dd",
   "metadata": {},
   "outputs": [
    {
     "name": "stdout",
     "output_type": "stream",
     "text": [
      "a\n",
      "b\n",
      "c\n"
     ]
    }
   ],
   "source": [
    "ch = 0\n",
    "while ch < len(characters):\n",
    "    print(characters[ch])\n",
    "    ch += 1"
   ]
  },
  {
   "cell_type": "markdown",
   "id": "d42d7962",
   "metadata": {},
   "source": [
    "### 반복문의 제어\n",
    "- 의도치 않게 코드를 종료시킬 수 있기 대문에 되도록 사용하지 않는다.\n",
    "\n",
    "- break: 논리적으로 반복을 종료시키는 방법. break 시점을 알아야한다!!\n",
    "- else: 어떤 조건이 \"완전히\" 끝났을 때 한번 더 실행하는 블록.\n",
    "- continue: 특정 조건을 건너뛰고 다음 조건을 수행한다."
   ]
  },
  {
   "cell_type": "code",
   "execution_count": 11,
   "id": "22eb20d1",
   "metadata": {},
   "outputs": [
    {
     "name": "stdout",
     "output_type": "stream",
     "text": [
      "0\n",
      "1\n",
      "2\n",
      "3\n",
      "4\n"
     ]
    }
   ],
   "source": [
    "for i in range(10):\n",
    "    if i == 5:\n",
    "        break\n",
    "    print(i)\n",
    "else:\n",
    "    print(\"ended\")"
   ]
  },
  {
   "cell_type": "code",
   "execution_count": 12,
   "id": "6abeec90",
   "metadata": {},
   "outputs": [
    {
     "name": "stdout",
     "output_type": "stream",
     "text": [
      "0\n",
      "1\n",
      "2\n",
      "3\n",
      "4\n"
     ]
    }
   ],
   "source": [
    "j = 0\n",
    "while j < 5:\n",
    "    print(j)\n",
    "    if j == 4:\n",
    "        break\n",
    "    j += 1\n",
    "else:\n",
    "    print(\"\")"
   ]
  },
  {
   "cell_type": "markdown",
   "id": "60cea712",
   "metadata": {},
   "source": [
    "### print formatting\n",
    "\n",
    "- 1.f string\n",
    "    - f, F 둘다 사용 가능\n",
    "    - f'{var}'\n",
    "- 2. format\n",
    "    - '{}'.format(var)\n",
    "- 3. %\n",
    "    - ' %type' % var"
   ]
  },
  {
   "cell_type": "code",
   "execution_count": 23,
   "id": "6efda965",
   "metadata": {},
   "outputs": [
    {
     "name": "stdout",
     "output_type": "stream",
     "text": [
      "나의 이름은 lee!!!\n"
     ]
    }
   ],
   "source": [
    "name = 'lee'\n",
    "print(f'나의 이름은 {name}!!!')"
   ]
  },
  {
   "cell_type": "code",
   "execution_count": 24,
   "id": "ad2ea0bd",
   "metadata": {},
   "outputs": [
    {
     "name": "stdout",
     "output_type": "stream",
     "text": [
      "너의 이름은 l ???\n"
     ]
    }
   ],
   "source": [
    "print('너의 이름은 {:.1s} ???'.format(name))"
   ]
  },
  {
   "cell_type": "markdown",
   "id": "e860e130",
   "metadata": {},
   "source": [
    "### 구구단\n",
    "\n",
    "- 1. for loop, while 중 맞는 것을 선택한 뒤 n 단을 입력받아 n단을 출력한다.\n",
    "    - ex. == 3단 ==\n",
    "        3 * 1 = 3\n",
    "        3 * 2 = 6\n",
    "        ....\n",
    "        3 * 9 = 27\n",
    "- 2. 1 ~ n 단까지 출력한다.\n",
    "- 3. 시작단, 끝단 둘다 입력받을 것\n",
    "    - 예: 4 ~ 7단\n",
    "    - 시작단이 끝단보다 작을 때 어떻게 처리할지\n",
    "- 4. 작업 선택 번호가 3을 넘어가거나, 3번 작업 중 끝 단이 시작 단보다 작을 경우 다시 입력할 수 있도록 하는 코드이다.\n",
    "    - 메뉴: 1) n, 2) 1 ~ n, 3) n ~ m단\n",
    "    - 메뉴에 없는 옵션 선택할 때?\n",
    "    - print format 사용할 것"
   ]
  },
  {
   "cell_type": "code",
   "execution_count": null,
   "id": "f02c1626",
   "metadata": {},
   "outputs": [],
   "source": [
    "# 구구단 - 4\n",
    "\n",
    "print(\" 1) 원하는 단 한개 출력 \\n2) 1단부터 원하는 단까지 출력 \\n 3) 원하는 단의 범위 출력\" )\n",
    "\n",
    "while True:\n",
    "    menu = int(input('메뉴에서 원하는 번호를 고르시오: '))\n",
    "    \n",
    "    if menu == 1:\n",
    "        n = int(input('원하는 단을 입력하시오: '))\n",
    "        \n",
    "        print(f'== {n}단 ==')\n",
    "        for i in range(1,10):\n",
    "            print(f'{n} * {i} = {n * i}')\n",
    "        print()\n",
    "        break\n",
    "        \n",
    "    elif menu == 2:\n",
    "        n = int(input('원하는 단을 입력하세요: '))\n",
    "        \n",
    "        print(f'== {n}단==')\n",
    "        for i in range(1, n+1):\n",
    "            print(f'{n} * i = {n * i}')\n",
    "        print()\n",
    "        break\n",
    "        \n",
    "    elif menu == 3:\n",
    "        start = int(input('시작하기를 원하는 단을 입력하시오: '))\n",
    "        end = int(input('마지막 단을 입력하시오: '))\n",
    "        \n",
    "        if start <= end:\n",
    "            for i in range(start, end + 1):\n",
    "                print(f'=={i}단==')\n",
    "            for j in range(1, 10):\n",
    "                print(f'{i} * {j} = {i * j}')\n",
    "            \n",
    "        elif start > end:\n",
    "            for i in range(end, start + 1):\n",
    "                print(f'=={i}단==')\n",
    "            for j in range(1, 10):\n",
    "                print(f'{i} * {j} = {i * j}') #3번 메뉴가 안됨....\n",
    "        \n",
    "    else:\n",
    "        print('없는 메뉴입니다.')"
   ]
  },
  {
   "cell_type": "code",
   "execution_count": 20,
   "id": "e39ab5c6",
   "metadata": {
    "scrolled": true
   },
   "outputs": [
    {
     "name": "stdout",
     "output_type": "stream",
     "text": [
      "5\n",
      "== 5 단==\n",
      "5 * 1 = 5\n",
      "5 * 2 = 10\n",
      "5 * 3 = 15\n",
      "5 * 4 = 20\n",
      "5 * 5 = 25\n",
      "5 * 6 = 30\n",
      "5 * 7 = 35\n",
      "5 * 8 = 40\n",
      "5 * 9 = 45\n"
     ]
    }
   ],
   "source": [
    "# 구구단 - 1\n",
    "\n",
    "n = int(input())\n",
    "\n",
    "print(\"==\", n, \"단==\")\n",
    "for i in range(1, 10):\n",
    "    print(f'{n} * {i} = {n * i}')\n",
    "       "
   ]
  },
  {
   "cell_type": "code",
   "execution_count": 34,
   "id": "97ade16d",
   "metadata": {},
   "outputs": [
    {
     "name": "stdout",
     "output_type": "stream",
     "text": [
      "2\n",
      "== 1 단==\n",
      "1 * 1 = 2\n",
      "1 * 2 = 4\n",
      "1 * 3 = 6\n",
      "1 * 4 = 8\n",
      "1 * 5 = 10\n",
      "1 * 6 = 12\n",
      "1 * 7 = 14\n",
      "1 * 8 = 16\n",
      "1 * 9 = 18\n",
      "== 2 단==\n",
      "2 * 1 = 2\n",
      "2 * 2 = 4\n",
      "2 * 3 = 6\n",
      "2 * 4 = 8\n",
      "2 * 5 = 10\n",
      "2 * 6 = 12\n",
      "2 * 7 = 14\n",
      "2 * 8 = 16\n",
      "2 * 9 = 18\n"
     ]
    }
   ],
   "source": [
    "# 구구단 - 2\n",
    "\n",
    "n = int(input())\n",
    "\n",
    "for j in range(1, n+1):\n",
    "    print(f'== {j} 단==')\n",
    "    for i in range(1, 10):\n",
    "        print(f'{j} * {i} = {n * i}')"
   ]
  },
  {
   "cell_type": "code",
   "execution_count": 2,
   "id": "a2203658",
   "metadata": {
    "scrolled": true
   },
   "outputs": [
    {
     "name": "stdout",
     "output_type": "stream",
     "text": [
      "7\n",
      "4\n",
      "==4단==\n",
      "4 * 1 = 4\n",
      "4 * 2 = 8\n",
      "4 * 3 = 12\n",
      "4 * 4 = 16\n",
      "4 * 5 = 20\n",
      "4 * 6 = 24\n",
      "4 * 7 = 28\n",
      "4 * 8 = 32\n",
      "4 * 9 = 36\n",
      "==5단==\n",
      "5 * 1 = 5\n",
      "5 * 2 = 10\n",
      "5 * 3 = 15\n",
      "5 * 4 = 20\n",
      "5 * 5 = 25\n",
      "5 * 6 = 30\n",
      "5 * 7 = 35\n",
      "5 * 8 = 40\n",
      "5 * 9 = 45\n",
      "==6단==\n",
      "6 * 1 = 6\n",
      "6 * 2 = 12\n",
      "6 * 3 = 18\n",
      "6 * 4 = 24\n",
      "6 * 5 = 30\n",
      "6 * 6 = 36\n",
      "6 * 7 = 42\n",
      "6 * 8 = 48\n",
      "6 * 9 = 54\n",
      "==7단==\n",
      "7 * 1 = 7\n",
      "7 * 2 = 14\n",
      "7 * 3 = 21\n",
      "7 * 4 = 28\n",
      "7 * 5 = 35\n",
      "7 * 6 = 42\n",
      "7 * 7 = 49\n",
      "7 * 8 = 56\n",
      "7 * 9 = 63\n"
     ]
    }
   ],
   "source": [
    "# 3. 시작단, 끝단 둘다 입력받을 것\n",
    "   # - 예: 4 ~ 7단\n",
    "   # - 시작단이 끝단보다 작을 때 어떻게 처리할지\n",
    "\n",
    "start = int(input())\n",
    "end = int(input())\n",
    "\n",
    "if start <= end:\n",
    "    for i in range(start, end + 1):\n",
    "        print(f'=={i}단==')\n",
    "        for j in range(1, 10):\n",
    "            print(f'{i} * {j} = {i * j}')\n",
    "elif start > end:\n",
    "    for i in range(end, start + 1):\n",
    "        print(f'=={i}단==')\n",
    "        for j in range(1, 10):\n",
    "            print(f'{i} * {j} = {i * j}')"
   ]
  },
  {
   "cell_type": "markdown",
   "id": "e89ecec7",
   "metadata": {},
   "source": [
    "### NLTK: corpus\n",
    "\n",
    "- 다양한 종류의 코퍼스가 있다.\n",
    "- 더 다양한 언어 분석이 가능\n",
    "- gutenberg\n",
    "- brown\n",
    "- inaugural"
   ]
  },
  {
   "cell_type": "code",
   "execution_count": 43,
   "id": "b2192453",
   "metadata": {},
   "outputs": [
    {
     "data": {
      "text/plain": [
       "True"
      ]
     },
     "execution_count": 43,
     "metadata": {},
     "output_type": "execute_result"
    }
   ],
   "source": [
    "import nltk\n",
    "from nltk.corpus import gutenberg\n",
    "nltk.download('gutenberg', quiet= True)"
   ]
  },
  {
   "cell_type": "code",
   "execution_count": 44,
   "id": "85a1bee2",
   "metadata": {},
   "outputs": [
    {
     "data": {
      "text/plain": [
       "['[', 'Emma', 'by', 'Jane', 'Austen', '1816', ']', ...]"
      ]
     },
     "execution_count": 44,
     "metadata": {},
     "output_type": "execute_result"
    }
   ],
   "source": [
    "gutenberg.words()\n",
    "#gutenberg.words(['austen-emma.txt','austen-persuasion.txt'])"
   ]
  },
  {
   "cell_type": "code",
   "execution_count": 45,
   "id": "7d22b737",
   "metadata": {
    "scrolled": true
   },
   "outputs": [
    {
     "data": {
      "text/plain": [
       "['austen-emma.txt',\n",
       " 'austen-persuasion.txt',\n",
       " 'austen-sense.txt',\n",
       " 'bible-kjv.txt',\n",
       " 'blake-poems.txt',\n",
       " 'bryant-stories.txt',\n",
       " 'burgess-busterbrown.txt',\n",
       " 'carroll-alice.txt',\n",
       " 'chesterton-ball.txt',\n",
       " 'chesterton-brown.txt',\n",
       " 'chesterton-thursday.txt',\n",
       " 'edgeworth-parents.txt',\n",
       " 'melville-moby_dick.txt',\n",
       " 'milton-paradise.txt',\n",
       " 'shakespeare-caesar.txt',\n",
       " 'shakespeare-hamlet.txt',\n",
       " 'shakespeare-macbeth.txt',\n",
       " 'whitman-leaves.txt']"
      ]
     },
     "execution_count": 45,
     "metadata": {},
     "output_type": "execute_result"
    }
   ],
   "source": [
    "gutenberg.fileids()"
   ]
  },
  {
   "cell_type": "code",
   "execution_count": null,
   "id": "2880989b",
   "metadata": {},
   "outputs": [],
   "source": [
    "austen_raw = gutenberg.raw('austen-emma.txt')[:10]\n",
    "austen_words = gutenberg.word('austen-emma.txt')[:10]\n",
    "austen_sents = gustenberg.sents('austen-emma.txt')[:3]\n",
    "\n",
    "print(f'austen_emma.txt의 \\n첫 글자 : {austen_raw}')\n",
    "print(f'첫 열 단어 : {austen_words}')\n",
    "print('첫 두문장 : {austen_semts}')"
   ]
  },
  {
   "cell_type": "code",
   "execution_count": null,
   "id": "48c32a47",
   "metadata": {},
   "outputs": [],
   "source": [
    "# 구텐버그의 각 파일을 돌아가면서 글자 수, 단어 수 , 문장 수를 출력합니다.\n",
    "#  내 답인데 틀렷음\n",
    "file = 0\n",
    "while file > len(gutenberg.word) + 1:\n",
    "    print(len(gutenberg.words()))\n",
    "    print(len(gutenberg.sents()))\n",
    "    print(len(gutenberg.raw()))"
   ]
  },
  {
   "cell_type": "code",
   "execution_count": null,
   "id": "839fb271",
   "metadata": {},
   "outputs": [],
   "source": [
    "# 정답\n",
    "\n",
    "for fileid in gutenberg.fileids():\n",
    "    raw = len(gutenberg.raw(fileid))\n",
    "    word = len(gutenberg.words(fileid))\n",
    "    sent = len(gutenberg.sents(fileid))\n",
    "\n",
    "    print(f'{fileid[:-4]} | 글자 수 = {raw}개, 단어 수 = {word}개, 문장 수 = {sent}개')"
   ]
  },
  {
   "cell_type": "code",
   "execution_count": null,
   "id": "5c095adb",
   "metadata": {},
   "outputs": [],
   "source": [
    "# nltk.book text 1 - 9 가져오기.\n",
    "from nltk.book import *\n",
    "nltk.download('book', quiet = True)"
   ]
  }
 ],
 "metadata": {
  "kernelspec": {
   "display_name": "Python 3 (ipykernel)",
   "language": "python",
   "name": "python3"
  },
  "language_info": {
   "codemirror_mode": {
    "name": "ipython",
    "version": 3
   },
   "file_extension": ".py",
   "mimetype": "text/x-python",
   "name": "python",
   "nbconvert_exporter": "python",
   "pygments_lexer": "ipython3",
   "version": "3.9.7"
  }
 },
 "nbformat": 4,
 "nbformat_minor": 5
}
