{
 "cells": [
  {
   "cell_type": "markdown",
   "id": "af5df005",
   "metadata": {},
   "source": [
    "## 중첩 조건문\n",
    "\n",
    "- nested conditional\n",
    "- if 블록 안에 또 다른 if 블록이 있는 경우 들여쓰기로 논리 구분!"
   ]
  },
  {
   "cell_type": "code",
   "execution_count": 3,
   "id": "9f96e574",
   "metadata": {},
   "outputs": [
    {
     "name": "stdout",
     "output_type": "stream",
     "text": [
      "Block B\n"
     ]
    }
   ],
   "source": [
    "x = 0\n",
    "y = 1\n",
    "if x == y:\n",
    "    print(\"Block A\")\n",
    "else:\n",
    "    if x < y :\n",
    "            print(\"Block B\")\n",
    "    else:\n",
    "        print(\"Block C\")\n",
    "        \n",
    "        \n",
    "    #논리가 2개가 들어가 있어서 안 좋은 예"
   ]
  },
  {
   "cell_type": "code",
   "execution_count": null,
   "id": "b1b9f961",
   "metadata": {},
   "outputs": [],
   "source": [
    "if x > 0:\n",
    "    if x < 10:\n",
    "        print(\"Block A\")\n",
    "    else:\n",
    "        print(\"Block B\")\n",
    "else:\n",
    "    print(\"Block C\")\n",
    "    \n",
    "# 0 < x <10\n",
    "#좋지 않은 예, 할 수 있다면 중첩 조건문보단, 보다 간결하게 작성하는 것이 좋다"
   ]
  },
  {
   "cell_type": "code",
   "execution_count": null,
   "id": "3cdd0fbf",
   "metadata": {},
   "outputs": [],
   "source": [
    "if x == y:\n",
    "    #block a\n",
    "elif x < y:\n",
    "    #block b\n",
    "else:\n",
    "    #block c"
   ]
  },
  {
   "cell_type": "code",
   "execution_count": null,
   "id": "de2167f4",
   "metadata": {},
   "outputs": [],
   "source": [
    "# 방법 1 (논리연산자를 사용)\n",
    "if (x > 0) and (x < 10):\n",
    "    #block a\n",
    "else:\n",
    "    #block b"
   ]
  },
  {
   "cell_type": "code",
   "execution_count": null,
   "id": "17c9ee47",
   "metadata": {},
   "outputs": [],
   "source": [
    "#방법2 (파이썬에서만 가능)\n",
    "if 0 < x < 10:\n",
    "    #block a\n",
    "else:\n",
    "    #block b"
   ]
  },
  {
   "cell_type": "markdown",
   "id": "de26a930",
   "metadata": {},
   "source": [
    "## 논리 연산자\n",
    "\n",
    "- 비교연산자가 여러번 사용될 때 사용\n",
    "- and, or, not\n",
    "    - A and B : A도 참이고, B도 참일 때 True\n",
    "        - 예 : A & B\n",
    "    - A or B: A 혹은 B, 둘중 하나만 참이면 True\n",
    "        - 예 : A I B\n",
    "    - not(A) : A가 False >> True, True >> False\n",
    "- 비교 연산자의 괄호는 가독성을 위해 쓰는 것.\n",
    "- 파이썬에서만 가능한 표현 : 0 < x <10"
   ]
  },
  {
   "cell_type": "markdown",
   "id": "c044e1f8",
   "metadata": {},
   "source": [
    "## True, False\n",
    "- \"만약 a가 참이라면,...\"\n",
    "- a = True"
   ]
  },
  {
   "cell_type": "code",
   "execution_count": null,
   "id": "79483208",
   "metadata": {},
   "outputs": [],
   "source": [
    "if a == True:\n",
    "    print()\n",
    "    #틀림! == 아님!\n",
    "\n",
    "if a :\n",
    "    print()"
   ]
  },
  {
   "cell_type": "markdown",
   "id": "76bce64d",
   "metadata": {},
   "source": [
    "## in \n",
    "- membership operator\n",
    "- 어떤 요소가 그 안에 있는지 확인하고 싶다\n",
    "- 비슷한 조건이 여러번 반복될 때 사용 가능"
   ]
  },
  {
   "cell_type": "code",
   "execution_count": 4,
   "id": "cdff24ac",
   "metadata": {},
   "outputs": [
    {
     "name": "stdout",
     "output_type": "stream",
     "text": [
      "No\n"
     ]
    }
   ],
   "source": [
    "letter = 'abcde'\n",
    "\n",
    "\n",
    "# letter가 모음인지 확인하고 싶다: a, e, i, o, u\n",
    "\n",
    "if letter in ['a', 'e','i','o', 'u']:\n",
    "    #리스트 요소에 letter과 일치하는 것이 있는가(a = letter인지 묻는 것!)\n",
    "    print(\"Yes\")\n",
    "else:\n",
    "    print(\"No\")"
   ]
  },
  {
   "cell_type": "code",
   "execution_count": 5,
   "id": "02bff1cd",
   "metadata": {},
   "outputs": [
    {
     "name": "stdout",
     "output_type": "stream",
     "text": [
      "Yes\n"
     ]
    }
   ],
   "source": [
    "word = 'abcde'\n",
    "\n",
    "#word에 모음이 있는지 확인\n",
    "if 'a'or 'e' or 'i' or 'o' or 'u' in word:\n",
    "    print(\"Yes\")\n",
    "else:\n",
    "    print(\"No\")"
   ]
  },
  {
   "cell_type": "markdown",
   "id": "2e9e9a83",
   "metadata": {},
   "source": [
    "### 바다코끼리 연산자\n",
    "\n",
    "- walrus operator\n",
    "- 할당과 테스트를 동시에 하는 기능(표현식에 이름을 부여, 재사용 가능)\n",
    "- :=\n",
    "- 정식 명칭: 대입 표현식(Assignment Expression), 명명 표현식(Named Expression) 또는 바다코끼리 연산자(Walrus Operator)\n",
    "- 기존의 코드를 조금 더 깔끔하게 짤 수 있다.\n",
    "\n",
    "[참고링크]\n",
    "<https://int-i.github.io/python/2020-05-29/python-walrus-operator/>"
   ]
  },
  {
   "cell_type": "code",
   "execution_count": 3,
   "id": "933aa10c",
   "metadata": {},
   "outputs": [
    {
     "data": {
      "text/plain": [
       "'blahblahblahblahblahblahblahblahblahblahblahblahblahblahblahblahblahblahblahblahblahblahblahblahblahblahblahblahblahblahblahblahblahblahblahblahblahblahblahblahblahblahblahblahblahblahblahblahblahblah'"
      ]
     },
     "execution_count": 3,
     "metadata": {},
     "output_type": "execute_result"
    }
   ],
   "source": [
    "tweet_limit = 200\n",
    "tweet_string = 'blah' * 50\n",
    "#공백 없이 스트링 4*50개\n",
    "tweet_string"
   ]
  },
  {
   "cell_type": "code",
   "execution_count": 4,
   "id": "1d2116a3",
   "metadata": {},
   "outputs": [
    {
     "name": "stdout",
     "output_type": "stream",
     "text": [
      "불가능\n"
     ]
    }
   ],
   "source": [
    "diff = tweet_limit - len(tweet_string)\n",
    "if diff > 0:\n",
    "    print('가능')\n",
    "else:\n",
    "    print('불가능')"
   ]
  },
  {
   "cell_type": "code",
   "execution_count": 6,
   "id": "3b1bc486",
   "metadata": {
    "scrolled": true
   },
   "outputs": [],
   "source": [
    "if diff := tweet_limit - len(tweet_string) > 0:\n",
    "        print('가능')"
   ]
  },
  {
   "cell_type": "code",
   "execution_count": null,
   "id": "2bf84f4c",
   "metadata": {},
   "outputs": [],
   "source": [
    "a = [1, 2, 3, 4]\n",
    "n = len(a)\n",
    "if n > 5:\n",
    "    print(f\"List is too long ({n} elements, expected <= 5)\")"
   ]
  },
  {
   "cell_type": "code",
   "execution_count": null,
   "id": "12529530",
   "metadata": {},
   "outputs": [],
   "source": [
    "#조건식에서의 바다코끼리 연산자의 사용\n",
    "a = [1, 2, 3, 4]\n",
    "if (n := len(a)) > 5:\n",
    "    print(f\"List is too long ({n} elements, expected <= 5)\")\n",
    "    \n",
    "#n을 조건문 안에서 선언하고 값을 대입 가능하다.\n",
    "#라인 한줄이 덜 필요하여 기존의 코드를 좀 더 깔끔하게 짤 수 있다."
   ]
  },
  {
   "cell_type": "code",
   "execution_count": 7,
   "id": "244d7b39",
   "metadata": {},
   "outputs": [
    {
     "ename": "NameError",
     "evalue": "name 'file' is not defined",
     "output_type": "error",
     "traceback": [
      "\u001b[1;31m---------------------------------------------------------------------------\u001b[0m",
      "\u001b[1;31mNameError\u001b[0m                                 Traceback (most recent call last)",
      "\u001b[1;32m~\\AppData\\Local\\Temp/ipykernel_14652/2897512730.py\u001b[0m in \u001b[0;36m<module>\u001b[1;34m\u001b[0m\n\u001b[0;32m      1\u001b[0m \u001b[1;32mwhile\u001b[0m \u001b[1;32mTrue\u001b[0m\u001b[1;33m:\u001b[0m\u001b[1;33m\u001b[0m\u001b[1;33m\u001b[0m\u001b[0m\n\u001b[1;32m----> 2\u001b[1;33m     \u001b[0mchunk\u001b[0m \u001b[1;33m=\u001b[0m \u001b[0mfile\u001b[0m\u001b[1;33m.\u001b[0m\u001b[0mread\u001b[0m\u001b[1;33m(\u001b[0m\u001b[1;36m128\u001b[0m\u001b[1;33m)\u001b[0m\u001b[1;33m\u001b[0m\u001b[1;33m\u001b[0m\u001b[0m\n\u001b[0m\u001b[0;32m      3\u001b[0m     \u001b[1;32mif\u001b[0m \u001b[0mchunk\u001b[0m\u001b[1;33m:\u001b[0m\u001b[1;33m\u001b[0m\u001b[1;33m\u001b[0m\u001b[0m\n\u001b[0;32m      4\u001b[0m         \u001b[1;32mbreak\u001b[0m\u001b[1;33m\u001b[0m\u001b[1;33m\u001b[0m\u001b[0m\n\u001b[0;32m      5\u001b[0m     \u001b[0mprocess\u001b[0m\u001b[1;33m(\u001b[0m\u001b[0mchunk\u001b[0m\u001b[1;33m)\u001b[0m\u001b[1;33m\u001b[0m\u001b[1;33m\u001b[0m\u001b[0m\n",
      "\u001b[1;31mNameError\u001b[0m: name 'file' is not defined"
     ]
    }
   ],
   "source": [
    "while True:\n",
    "    chunk = file.read(128)\n",
    "    if chunk:\n",
    "        break\n",
    "    process(chunk)"
   ]
  },
  {
   "cell_type": "code",
   "execution_count": null,
   "id": "11fdc1f9",
   "metadata": {},
   "outputs": [],
   "source": [
    "#반복문에서의 바다코끼리 연산자의 사용\n",
    "while chunk := file.read(128):\n",
    "    process(chunk)"
   ]
  },
  {
   "cell_type": "code",
   "execution_count": null,
   "id": "d950778c",
   "metadata": {},
   "outputs": [],
   "source": [
    "y = f(x)\n",
    "[y, y**2, y**3]"
   ]
  },
  {
   "cell_type": "code",
   "execution_count": null,
   "id": "9e0ed479",
   "metadata": {},
   "outputs": [],
   "source": [
    "#리스트 안에서의 바다코끼리 연산자의 사용\n",
    "[y := f(x), y**2, y**3]\n",
    "#표현식이기 때문에 리스트 안에서의 사용도 가능하다."
   ]
  },
  {
   "cell_type": "markdown",
   "id": "30e259fc",
   "metadata": {},
   "source": [
    "### Quiz\n",
    "\n",
    "- 윤년을 구하는 코드를 짜보자\n",
    "    - 연도가 4로 나눠 떨어지면 윤년\n",
    "    - 100으로 나눠 떨어지면 안된다\n",
    "    - 400으로 나눠 떨어지면 된다.\n",
    "- year를 입력받는다.\n",
    "- 'xxxx년은 윤년입니다.' / 'xxxx년은 윤년이 아닙니다.'"
   ]
  },
  {
   "cell_type": "code",
   "execution_count": 20,
   "id": "31ea5e37",
   "metadata": {},
   "outputs": [
    {
     "name": "stdout",
     "output_type": "stream",
     "text": [
      "8800\n",
      "8800 년은 윤년입니다.\n"
     ]
    }
   ],
   "source": [
    "year = int(input())\n",
    "\n",
    "if year % 4 == 0 and year % 100 != 0 or year % 400 == 0:\n",
    "    print(year, '년은 윤년입니다.')\n",
    "else:\n",
    "    print(year, '년은 윤년이 아닙니다.')\n",
    "    \n",
    "#400으로 나눠 떨어지면 예외적으로 윤년이니까 and가 아닌 or로 연결해야 한다."
   ]
  },
  {
   "cell_type": "markdown",
   "id": "e62794bc",
   "metadata": {},
   "source": [
    "# ch05.string"
   ]
  },
  {
   "cell_type": "markdown",
   "id": "a3ba30ed",
   "metadata": {},
   "source": [
    "# 문자열\n",
    "\n",
    "## string : 문자열\n",
    "\n",
    "- str type\n",
    "- 시스템에서 가장 작은 단위\n",
    "- 불변적인 성격을 가짐 (immutable)\n",
    "    - 'abcd' >> b >> a 바꿀 수 없다\n",
    "- 문법: '', \"\" 감싸면 모두 문자열\n",
    "    - 예: '24'\n",
    "- ''' or \"\"\" > 주석\n",
    "- 형 변환은 str()\n",
    "\n",
    "\n",
    "## Escape character : 이스케이프 문자\n",
    "\n",
    "- 눈에 보이는 대로 인식되지 않는 문자열\n",
    "- 문법: \\ + <character>\n",
    "- \\n (라인피드: 문자열 안 줄 바꿈)\n",
    "- \\t (탭)\n",
    "- \\b(백스페이스)\n",
    "- \\f(폼피드: 현재 커서를 다음 줄로 이동)\n",
    "- \\r(캐리지 리턴: 현재 커서를 가장 앞으로 이동)\n",
    "- \\\\(역슬래시), \\'(작은따옴표), \\\"(큰따옴표)\n",
    "- print() 함수를 쓰지 않으면 형태가 출력은 된다.\n",
    "- '\\n' 출력은 어떻게?\n",
    "    - \\\\n\n",
    "    - r\"(raw string)\n",
    "- 문자열을 바꾸는 것이 아니라 표면상의 형태를 말하는 것"
   ]
  },
  {
   "cell_type": "code",
   "execution_count": 10,
   "id": "f90b0616",
   "metadata": {},
   "outputs": [
    {
     "name": "stdout",
     "output_type": "stream",
     "text": [
      "\"Hello Python\"\n"
     ]
    }
   ],
   "source": [
    "#큰 따옴표 출력 예제\n",
    "print('\\\"Hello Python\\\"')"
   ]
  },
  {
   "cell_type": "code",
   "execution_count": 47,
   "id": "b67ba8a0",
   "metadata": {},
   "outputs": [
    {
     "name": "stdout",
     "output_type": "stream",
     "text": [
      "hello \t world I'm a boy \n"
     ]
    }
   ],
   "source": [
    "sent = \"hello \\t world I\\'m a boy \"\n",
    "print(sent)"
   ]
  },
  {
   "cell_type": "code",
   "execution_count": 48,
   "id": "f2f71465",
   "metadata": {},
   "outputs": [
    {
     "data": {
      "text/plain": [
       "\"hello \\t world I'm a boy \""
      ]
     },
     "execution_count": 48,
     "metadata": {},
     "output_type": "execute_result"
    }
   ],
   "source": [
    "sent"
   ]
  },
  {
   "cell_type": "markdown",
   "id": "098befa6",
   "metadata": {},
   "source": [
    "## 연산\n",
    "\n",
    "- concatenation(+)\n",
    "    - \"+\" >> 붙이기\n",
    "-복제(*)\n",
    "    - \"*4 >> 4번 반복"
   ]
  },
  {
   "cell_type": "code",
   "execution_count": 25,
   "id": "7aa095a8",
   "metadata": {},
   "outputs": [
    {
     "data": {
      "text/plain": [
       "'brainbrain'"
      ]
     },
     "execution_count": 25,
     "metadata": {},
     "output_type": "execute_result"
    }
   ],
   "source": [
    "word = 'brain'\n",
    "#공백 없이 붙는다\n",
    "word + word"
   ]
  },
  {
   "cell_type": "code",
   "execution_count": 26,
   "id": "170a2ea1",
   "metadata": {},
   "outputs": [
    {
     "data": {
      "text/plain": [
       "'brainbrainbrainbrain'"
      ]
     },
     "execution_count": 26,
     "metadata": {},
     "output_type": "execute_result"
    }
   ],
   "source": [
    "word * 4"
   ]
  },
  {
   "cell_type": "code",
   "execution_count": 27,
   "id": "634e4b05",
   "metadata": {},
   "outputs": [
    {
     "data": {
      "text/plain": [
       "'my name isJake'"
      ]
     },
     "execution_count": 27,
     "metadata": {},
     "output_type": "execute_result"
    }
   ],
   "source": [
    "'my name is' + 'Jake'"
   ]
  },
  {
   "cell_type": "markdown",
   "id": "db97a745",
   "metadata": {},
   "source": [
    "# Slicing\n",
    "\n",
    "- 지정 범위의 문자열을 추출하는 것\n",
    "- 0일 경우 생략한다.\n",
    "    - 예: ~4까지 출력하라 >> [:5]\n",
    "    - 처음부터 끝까지 2스탭씩 >> [::2]\n",
    "    - 처음부터 끝까지 역순으로 >> [::-1]\n",
    "- 문법: 대괄호 + 오프셋 이용\n",
    "    - [start:end:step]\n",
    "- 오프셋은 0부터 시작\n",
    "- start 포함, end 불포함 (크거나 같고, 작다)\n",
    "- 오프셋 역순도 가능\n",
    "0 1 2 ...\n",
    "h e l l o\n",
    "-5      -1(-1부터 시작, 0부터 시작 아니다!)"
   ]
  },
  {
   "cell_type": "code",
   "execution_count": 49,
   "id": "3f4fdb7e",
   "metadata": {},
   "outputs": [
    {
     "data": {
      "text/plain": [
       "(\"hello \\t world I'm a boy \", 'e')"
      ]
     },
     "execution_count": 49,
     "metadata": {},
     "output_type": "execute_result"
    }
   ],
   "source": [
    "sent, sent[1] #2번째 글자"
   ]
  },
  {
   "cell_type": "code",
   "execution_count": 45,
   "id": "1fe0181a",
   "metadata": {},
   "outputs": [
    {
     "data": {
      "text/plain": [
       "'l'"
      ]
     },
     "execution_count": 45,
     "metadata": {},
     "output_type": "execute_result"
    }
   ],
   "source": [
    "sent[3:4] #3번째 글자만 나옴...start 포함 end 불포함이니"
   ]
  },
  {
   "cell_type": "code",
   "execution_count": 31,
   "id": "2c520de5",
   "metadata": {},
   "outputs": [
    {
     "data": {
      "text/plain": [
       "('hello', 'hello')"
      ]
     },
     "execution_count": 31,
     "metadata": {},
     "output_type": "execute_result"
    }
   ],
   "source": [
    "#처음부터 4까지\n",
    "sent[:5], sent[0:5]"
   ]
  },
  {
   "cell_type": "code",
   "execution_count": 33,
   "id": "fab3c06e",
   "metadata": {},
   "outputs": [
    {
     "data": {
      "text/plain": [
       "11"
      ]
     },
     "execution_count": 33,
     "metadata": {},
     "output_type": "execute_result"
    }
   ],
   "source": [
    "sent2 = 'hello world'\n",
    "len(sent2)\n",
    "#length (공백까지 포함한다.)"
   ]
  },
  {
   "cell_type": "code",
   "execution_count": 50,
   "id": "ccf18c4f",
   "metadata": {},
   "outputs": [
    {
     "data": {
      "text/plain": [
       "'hlo\\twrdImaby'"
      ]
     },
     "execution_count": 50,
     "metadata": {},
     "output_type": "execute_result"
    }
   ],
   "source": [
    "# 처음부터 끝까지 2스텝씩 출력하기\n",
    "sent[::2]"
   ]
  },
  {
   "cell_type": "code",
   "execution_count": 35,
   "id": "0ff1672d",
   "metadata": {},
   "outputs": [
    {
     "data": {
      "text/plain": [
       "'olleh'"
      ]
     },
     "execution_count": 35,
     "metadata": {},
     "output_type": "execute_result"
    }
   ],
   "source": [
    "hello = 'hello'\n",
    "hello[::-1]"
   ]
  },
  {
   "cell_type": "code",
   "execution_count": 36,
   "id": "696c6cf1",
   "metadata": {},
   "outputs": [
    {
     "ename": "TypeError",
     "evalue": "'str' object does not support item assignment",
     "output_type": "error",
     "traceback": [
      "\u001b[1;31m---------------------------------------------------------------------------\u001b[0m",
      "\u001b[1;31mTypeError\u001b[0m                                 Traceback (most recent call last)",
      "\u001b[1;32m~\\AppData\\Local\\Temp/ipykernel_13920/582202687.py\u001b[0m in \u001b[0;36m<module>\u001b[1;34m\u001b[0m\n\u001b[1;32m----> 1\u001b[1;33m \u001b[0mhello\u001b[0m\u001b[1;33m[\u001b[0m\u001b[1;36m2\u001b[0m\u001b[1;33m]\u001b[0m\u001b[1;33m=\u001b[0m \u001b[1;34m'L'\u001b[0m\u001b[1;33m\u001b[0m\u001b[1;33m\u001b[0m\u001b[0m\n\u001b[0m",
      "\u001b[1;31mTypeError\u001b[0m: 'str' object does not support item assignment"
     ]
    }
   ],
   "source": [
    "hello[2]= 'L'\n",
    "#error 불변타입이므로 바꿀 수 없다."
   ]
  },
  {
   "cell_type": "markdown",
   "id": "5e0a53c1",
   "metadata": {},
   "source": [
    "### NLTK\n",
    "\n",
    "- natural language toolkit\n",
    "- 교육용으로 개발도니 자연어처리 패키지\n",
    "- 코퍼스 제공하는데 어떤 처리가 되어 있다.\n",
    "     - 토크나이즈, 파싱, 태깅, ...."
   ]
  },
  {
   "cell_type": "code",
   "execution_count": 37,
   "id": "d5745df5",
   "metadata": {
    "scrolled": true
   },
   "outputs": [
    {
     "name": "stdout",
     "output_type": "stream",
     "text": [
      "Requirement already satisfied: nltk in c:\\anacondanew\\lib\\site-packages (3.6.5)\n",
      "Requirement already satisfied: click in c:\\anacondanew\\lib\\site-packages (from nltk) (8.0.3)\n",
      "Requirement already satisfied: joblib in c:\\anacondanew\\lib\\site-packages (from nltk) (1.1.0)\n",
      "Requirement already satisfied: regex>=2021.8.3 in c:\\anacondanew\\lib\\site-packages (from nltk) (2021.8.3)\n",
      "Requirement already satisfied: tqdm in c:\\anacondanew\\lib\\site-packages (from nltk) (4.62.3)\n",
      "Requirement already satisfied: colorama in c:\\anacondanew\\lib\\site-packages (from click->nltk) (0.4.4)\n"
     ]
    }
   ],
   "source": [
    "!pip install nltk\n",
    "\n",
    "#터미널로 패키지 설치하는 코드"
   ]
  },
  {
   "cell_type": "code",
   "execution_count": 13,
   "id": "b885c3e9",
   "metadata": {},
   "outputs": [
    {
     "data": {
      "text/plain": [
       "True"
      ]
     },
     "execution_count": 13,
     "metadata": {},
     "output_type": "execute_result"
    }
   ],
   "source": [
    "import nltk\n",
    "nltk.download('book', quiet = True)"
   ]
  },
  {
   "cell_type": "code",
   "execution_count": 14,
   "id": "c8e61d1a",
   "metadata": {
    "scrolled": true
   },
   "outputs": [
    {
     "name": "stdout",
     "output_type": "stream",
     "text": [
      "*** Introductory Examples for the NLTK Book ***\n",
      "Loading text1, ..., text9 and sent1, ..., sent9\n",
      "Type the name of the text or sentence to view it.\n",
      "Type: 'texts()' or 'sents()' to list the materials.\n",
      "text1: Moby Dick by Herman Melville 1851\n",
      "text2: Sense and Sensibility by Jane Austen 1811\n",
      "text3: The Book of Genesis\n",
      "text4: Inaugural Address Corpus\n",
      "text5: Chat Corpus\n",
      "text6: Monty Python and the Holy Grail\n",
      "text7: Wall Street Journal\n",
      "text8: Personals Corpus\n",
      "text9: The Man Who Was Thursday by G . K . Chesterton 1908\n"
     ]
    }
   ],
   "source": [
    "from nltk import book"
   ]
  },
  {
   "cell_type": "code",
   "execution_count": 15,
   "id": "fb4b7943",
   "metadata": {},
   "outputs": [],
   "source": [
    "moby = book.text1"
   ]
  },
  {
   "cell_type": "code",
   "execution_count": 54,
   "id": "5e4d1c8d",
   "metadata": {},
   "outputs": [
    {
     "data": {
      "text/plain": [
       "'\\n토큰? 프로그래밍에서 정의하는 단어\\n    \"\"I\\'m a boy. i\\'m, i am\\n'"
      ]
     },
     "execution_count": 54,
     "metadata": {},
     "output_type": "execute_result"
    }
   ],
   "source": [
    "moby.tokens #단어에 접근\n",
    "\n",
    "\"\"\"\n",
    "토큰? 프로그래밍에서 정의하는 단어\n",
    "    \"\"I'm a boy. i'm, i am\n",
    "\"\"\""
   ]
  },
  {
   "cell_type": "code",
   "execution_count": 55,
   "id": "96732d26",
   "metadata": {},
   "outputs": [
    {
     "data": {
      "text/plain": [
       "260819"
      ]
     },
     "execution_count": 55,
     "metadata": {},
     "output_type": "execute_result"
    }
   ],
   "source": [
    "# 총 길이(단어)\n",
    "\n",
    "len(moby.tokens)"
   ]
  },
  {
   "cell_type": "code",
   "execution_count": 56,
   "id": "749f731a",
   "metadata": {},
   "outputs": [
    {
     "data": {
      "text/plain": [
       "{'whim',\n",
       " 'entire',\n",
       " 'Born',\n",
       " 'slide',\n",
       " 'glorified',\n",
       " 'beginner',\n",
       " 'sawed',\n",
       " 'generally',\n",
       " 'enters',\n",
       " 'unintermitted',\n",
       " 'average',\n",
       " 'bosky',\n",
       " 'cannibals',\n",
       " '1772',\n",
       " 'piety',\n",
       " 'pageant',\n",
       " 'column',\n",
       " 'Monstrous',\n",
       " 'unmoor',\n",
       " 'JOB',\n",
       " 'swathed',\n",
       " 'jib',\n",
       " 'freewill',\n",
       " 'humoredly',\n",
       " 'hinting',\n",
       " 'returned',\n",
       " 'effects',\n",
       " 'Goa',\n",
       " 'supernatural',\n",
       " 'REV',\n",
       " 'care',\n",
       " 'Tumbled',\n",
       " 'against',\n",
       " 'comprehensiveness',\n",
       " 'lassitude',\n",
       " 'phantoms',\n",
       " 'elected',\n",
       " 'billed',\n",
       " 'walrus',\n",
       " 'nick',\n",
       " 'resemblances',\n",
       " 'ungovernable',\n",
       " 'dining',\n",
       " 'Rogers',\n",
       " 'Corkscrew',\n",
       " '26',\n",
       " 'travelling',\n",
       " 'bespeaking',\n",
       " 'Wooden',\n",
       " 'righted',\n",
       " 'trowsers',\n",
       " 'Goodwin',\n",
       " 'curios',\n",
       " 'denominate',\n",
       " 'parlor',\n",
       " 'challenge',\n",
       " 'moon',\n",
       " 'monomaniac',\n",
       " 'entreaty',\n",
       " 'provided',\n",
       " 'microscopic',\n",
       " 'noblemen',\n",
       " 'pouch',\n",
       " 'processions',\n",
       " 'Potters',\n",
       " '94',\n",
       " 'dim',\n",
       " 'render',\n",
       " 'oblongs',\n",
       " 'hearty',\n",
       " 'asses',\n",
       " 'mentioning',\n",
       " 'analytic',\n",
       " 'Patagonian',\n",
       " 'muffle',\n",
       " '1492',\n",
       " 'refugees',\n",
       " 'lobes',\n",
       " 'malefactors',\n",
       " 'Whose',\n",
       " 'sways',\n",
       " 'Chaldee',\n",
       " 'ugly',\n",
       " 'denials',\n",
       " 'namely',\n",
       " 'tastin',\n",
       " 'credulities',\n",
       " 'Isle',\n",
       " 'unwarranted',\n",
       " 'unobservant',\n",
       " 'hand',\n",
       " 'stuff',\n",
       " 'beaker',\n",
       " 'justification',\n",
       " 'kissed',\n",
       " 'lake',\n",
       " 'enrolled',\n",
       " 'internationally',\n",
       " 'billow',\n",
       " 'hung',\n",
       " 'inexplicable',\n",
       " 'lots',\n",
       " 'flash',\n",
       " 'Ramadans',\n",
       " 'doorway',\n",
       " 'numberless',\n",
       " 'posterity',\n",
       " 'contiguity',\n",
       " 'abating',\n",
       " 'ornaments',\n",
       " 'perish',\n",
       " 'Genesis',\n",
       " 'precedes',\n",
       " 'entangle',\n",
       " 'Five',\n",
       " 'surcoat',\n",
       " 'grooved',\n",
       " 'impartial',\n",
       " 'en',\n",
       " 'opera',\n",
       " 'bidding',\n",
       " 'BLOODY',\n",
       " 'paper',\n",
       " 'curling',\n",
       " 'Parsee',\n",
       " 'enjoying',\n",
       " 'swimming',\n",
       " 'Thorkill',\n",
       " 'REPORT',\n",
       " 'quest',\n",
       " 'Spurn',\n",
       " 'Hand',\n",
       " 'maze',\n",
       " '50',\n",
       " 'faced',\n",
       " 'halters',\n",
       " 'jerked',\n",
       " 'vat',\n",
       " 'Temple',\n",
       " 'Strello',\n",
       " 'Bedford',\n",
       " 'papered',\n",
       " 'abundance',\n",
       " 'contrivances',\n",
       " 'grass',\n",
       " 'Turning',\n",
       " 'succourless',\n",
       " 'instinctively',\n",
       " 'deferential',\n",
       " 'Priest',\n",
       " 'saluted',\n",
       " 'merciless',\n",
       " 'genealogies',\n",
       " 'tell',\n",
       " 'flanked',\n",
       " 'gods',\n",
       " 'grant',\n",
       " 'Imperial',\n",
       " 'Opposite',\n",
       " 'apple',\n",
       " 'vicar',\n",
       " 'unsmoothable',\n",
       " 'stamp',\n",
       " 'ornament',\n",
       " 'vigilant',\n",
       " 'bump',\n",
       " 'genially',\n",
       " 'TAHITAN',\n",
       " 'multiply',\n",
       " 'funeral',\n",
       " 'ROUND',\n",
       " 'bell',\n",
       " 'handsome',\n",
       " 'encounter',\n",
       " 'manmaker',\n",
       " 'amazingly',\n",
       " 'Medes',\n",
       " 'elevating',\n",
       " 'Forecastle',\n",
       " 'Leviathanism',\n",
       " 'courteously',\n",
       " 'restlessness',\n",
       " 'Long',\n",
       " 'chipping',\n",
       " 'multitudes',\n",
       " 'vestige',\n",
       " 'Stiggs',\n",
       " 'adopt',\n",
       " 'felicity',\n",
       " 'Man',\n",
       " 'infinite',\n",
       " 'impious',\n",
       " 'pleasantness',\n",
       " 'Ginger',\n",
       " 'inlayings',\n",
       " 'muskets',\n",
       " 'ray',\n",
       " 'bowsprit',\n",
       " 'thunderous',\n",
       " 'slits',\n",
       " 'ruffled',\n",
       " 'Keep',\n",
       " 'Same',\n",
       " 'ELIZABETH',\n",
       " 'Sicilian',\n",
       " 'estimated',\n",
       " 'brewed',\n",
       " 'buries',\n",
       " 'kings',\n",
       " 'gouty',\n",
       " 'LEAP',\n",
       " 'Bridge',\n",
       " 'bidden',\n",
       " 'bandied',\n",
       " 'plentiful',\n",
       " 'affirm',\n",
       " 'confluent',\n",
       " 'soever',\n",
       " 'arrange',\n",
       " 'consequent',\n",
       " 'Cognac',\n",
       " 'Seldom',\n",
       " 'whisper',\n",
       " 'non',\n",
       " 'Bouton',\n",
       " 'array',\n",
       " 'desist',\n",
       " 'monsieurs',\n",
       " 'APPROACHING',\n",
       " 'besmoked',\n",
       " 'Shipmates',\n",
       " 'shark',\n",
       " 'pans',\n",
       " 'whaleboat',\n",
       " 'arrowy',\n",
       " 'striving',\n",
       " 'finny',\n",
       " 'moody',\n",
       " 'Pythagoras',\n",
       " 'Pray',\n",
       " 'delirium',\n",
       " 'invention',\n",
       " 'eluded',\n",
       " 'replace',\n",
       " 'marsh',\n",
       " 'tranquillity',\n",
       " 'chased',\n",
       " 'tone',\n",
       " 'motley',\n",
       " 'class',\n",
       " 'excessive',\n",
       " 'nipper',\n",
       " 'clear',\n",
       " 'Crish',\n",
       " 'crave',\n",
       " 'axles',\n",
       " 'eastward',\n",
       " 'sight',\n",
       " 'CONTESTED',\n",
       " 'ply',\n",
       " 'lustre',\n",
       " 'fa',\n",
       " '24',\n",
       " 'meetings',\n",
       " 'spire',\n",
       " 'Must',\n",
       " 'tint',\n",
       " 'deaden',\n",
       " 'nomine',\n",
       " 'grievances',\n",
       " 'Falsehood',\n",
       " 'mutter',\n",
       " 'freed',\n",
       " 'memorable',\n",
       " 'astronomical',\n",
       " 'unwound',\n",
       " 'bold',\n",
       " 'Mogul',\n",
       " 'openmouthed',\n",
       " 'Reckon',\n",
       " 'crunched',\n",
       " 'Tuileries',\n",
       " 'muscular',\n",
       " 'lasts',\n",
       " 'insensibly',\n",
       " 'philosopher',\n",
       " 'brother',\n",
       " 'disport',\n",
       " 'homewardbound',\n",
       " 'CHORUS',\n",
       " 'eventually',\n",
       " 'bartering',\n",
       " 'expressive',\n",
       " 'pilau',\n",
       " 'sequential',\n",
       " 'jesty',\n",
       " 'dumplings',\n",
       " 'ocean',\n",
       " 'become',\n",
       " 'angel',\n",
       " 'banners',\n",
       " 'placed',\n",
       " 'masculine',\n",
       " 'greenness',\n",
       " 'Niphon',\n",
       " 'potatoes',\n",
       " 'youngest',\n",
       " 'mutters',\n",
       " 'sent',\n",
       " 'nuts',\n",
       " 'Gentlemen',\n",
       " 'Rome',\n",
       " 'appear',\n",
       " 'Have',\n",
       " 'Hurriedly',\n",
       " 'necessarily',\n",
       " 'torn',\n",
       " 'disaster',\n",
       " 'deaths',\n",
       " 'criterion',\n",
       " 'Pulpit',\n",
       " 'relying',\n",
       " 'winsome',\n",
       " 'bubbling',\n",
       " 'heightens',\n",
       " 'statutory',\n",
       " 'analysed',\n",
       " 'bashful',\n",
       " 'bedded',\n",
       " 'lick',\n",
       " 'Thought',\n",
       " 'centralization',\n",
       " 'entered',\n",
       " 'crumb',\n",
       " 'amputated',\n",
       " 'World',\n",
       " 'Transported',\n",
       " 'claim',\n",
       " 'S',\n",
       " 'string',\n",
       " 'astronomers',\n",
       " 'NEST',\n",
       " 'Powers',\n",
       " 'introduction',\n",
       " 'leopards',\n",
       " 'maggots',\n",
       " 'Straits',\n",
       " 'security',\n",
       " '500',\n",
       " 'petulance',\n",
       " 'razor',\n",
       " 'strong',\n",
       " 'Subs',\n",
       " 'Almighty',\n",
       " 'engendering',\n",
       " 'obtruding',\n",
       " 'write',\n",
       " 'deceitfully',\n",
       " 'OATHS',\n",
       " 'snuffing',\n",
       " 'cleats',\n",
       " 'beauty',\n",
       " 'pressure',\n",
       " 'raving',\n",
       " 'copestone',\n",
       " 'preceded',\n",
       " 'profundity',\n",
       " 'captured',\n",
       " 'lay',\n",
       " 'Come',\n",
       " 'conclusion',\n",
       " 'unawares',\n",
       " 'connection',\n",
       " 'territories',\n",
       " 'wrapping',\n",
       " 'consuming',\n",
       " 'middling',\n",
       " 'Jig',\n",
       " 'kannakin',\n",
       " 'retiring',\n",
       " 'Unhinge',\n",
       " 'betakes',\n",
       " 'Throw',\n",
       " 'abortions',\n",
       " 'spoken',\n",
       " 'wrists',\n",
       " 'Teeth',\n",
       " 'vero',\n",
       " 'beater',\n",
       " 'during',\n",
       " 'empires',\n",
       " 'chivalrous',\n",
       " 'blessing',\n",
       " 'unsuccessful',\n",
       " 'earthly',\n",
       " 'naked',\n",
       " 'ringed',\n",
       " 'Miguel',\n",
       " 'jar',\n",
       " 'plazza',\n",
       " 'born',\n",
       " 'generic',\n",
       " 'Steed',\n",
       " 'Lit',\n",
       " 'shades',\n",
       " 'marring',\n",
       " 'dong',\n",
       " 'ain',\n",
       " 'pays',\n",
       " 'feathers',\n",
       " 'spake',\n",
       " 'unnearable',\n",
       " 'Loaded',\n",
       " 'bridges',\n",
       " '18',\n",
       " 'Cooper',\n",
       " 'portions',\n",
       " 'windbound',\n",
       " 'Bower',\n",
       " 'Burtons',\n",
       " 'inexorable',\n",
       " 'accompaniments',\n",
       " 'sterns',\n",
       " 'exercise',\n",
       " 'much',\n",
       " 'couldn',\n",
       " 'prefix',\n",
       " 'breasted',\n",
       " 'zodiac',\n",
       " 'bubblingly',\n",
       " 'gazes',\n",
       " 'candles',\n",
       " 'jinglers',\n",
       " 'unenervated',\n",
       " 'baron',\n",
       " 'true',\n",
       " 'revivified',\n",
       " 'grudge',\n",
       " 'whatsoever',\n",
       " 'indignity',\n",
       " 'stitch',\n",
       " 'India',\n",
       " 'amid',\n",
       " 'helped',\n",
       " 'hags',\n",
       " 'singed',\n",
       " 'cause',\n",
       " 'deliberating',\n",
       " 'coolness',\n",
       " 'capacious',\n",
       " 'inscribed',\n",
       " 'weaver',\n",
       " 'reined',\n",
       " 'Back',\n",
       " 'progression',\n",
       " 'gruff',\n",
       " 'prairies',\n",
       " 'Hosea',\n",
       " 'forbidding',\n",
       " 'awkwardness',\n",
       " 'buttressed',\n",
       " 'peopling',\n",
       " 'bending',\n",
       " 'lodges',\n",
       " 'Tanaquil',\n",
       " 'originally',\n",
       " 'god',\n",
       " 'Our',\n",
       " 'dilated',\n",
       " 'magnetically',\n",
       " 'Herod',\n",
       " 'horrid',\n",
       " 'dumbest',\n",
       " 'Close',\n",
       " 'Tolland',\n",
       " 'study',\n",
       " 'partner',\n",
       " 'flowed',\n",
       " 'topic',\n",
       " 'bedstead',\n",
       " 'ballroom',\n",
       " 'unstirring',\n",
       " 'pitted',\n",
       " 'fully',\n",
       " 'Shirt',\n",
       " 'Uppermost',\n",
       " 'napkins',\n",
       " 'bitter',\n",
       " 'waxes',\n",
       " 'unfurnished',\n",
       " 'Fossil',\n",
       " 'calculated',\n",
       " 'clergy',\n",
       " 'switching',\n",
       " 'formed',\n",
       " 'partially',\n",
       " '.',\n",
       " 'shabbily',\n",
       " 'critical',\n",
       " 'Archy',\n",
       " 'villany',\n",
       " 'topers',\n",
       " 'seethingly',\n",
       " 'evincing',\n",
       " 'cooked',\n",
       " 'forth',\n",
       " 'indulge',\n",
       " 'slumber',\n",
       " 'spose',\n",
       " 'obsequious',\n",
       " 'Icelandic',\n",
       " 'occurs',\n",
       " 'Coleman',\n",
       " 'hee',\n",
       " 'complexioned',\n",
       " 'regale',\n",
       " 'subsequent',\n",
       " 'reelman',\n",
       " 'Crozetts',\n",
       " 'catastrophe',\n",
       " 'triumphal',\n",
       " 'unfortunate',\n",
       " 'gentler',\n",
       " 'discharges',\n",
       " 'humorous',\n",
       " 'Hitherto',\n",
       " 'abode',\n",
       " 'lengthwise',\n",
       " 'strictest',\n",
       " 'restored',\n",
       " 'Fat',\n",
       " 'mystifications',\n",
       " 'rainy',\n",
       " 'azimuth',\n",
       " 'raises',\n",
       " 'frosted',\n",
       " 'Her',\n",
       " 'Stoic',\n",
       " 'inboard',\n",
       " 'hang',\n",
       " 'alien',\n",
       " 'Folgers',\n",
       " 'irrational',\n",
       " 'personified',\n",
       " 'tin',\n",
       " 'doze',\n",
       " 'monumental',\n",
       " 'shiver',\n",
       " 'gate',\n",
       " 'Seen',\n",
       " 'burghers',\n",
       " 'Thereby',\n",
       " 'lbs',\n",
       " 'cork',\n",
       " 'affectionate',\n",
       " 'inexhaustible',\n",
       " 'vacantly',\n",
       " '103',\n",
       " 'Seas',\n",
       " 'ranges',\n",
       " 'noticed',\n",
       " 'Stir',\n",
       " 'two',\n",
       " 'Phaedon',\n",
       " 'insanity',\n",
       " 'Unconsciously',\n",
       " 'hither',\n",
       " 'Philopater',\n",
       " 'Tic',\n",
       " 'ornamented',\n",
       " 'charged',\n",
       " 'assert',\n",
       " 'amen',\n",
       " 'liveliness',\n",
       " 'omitted',\n",
       " 'Scenes',\n",
       " 'abandoned',\n",
       " 'panel',\n",
       " 'them',\n",
       " 'belted',\n",
       " 'Lents',\n",
       " 'fury',\n",
       " 'Spaniards',\n",
       " 'inns',\n",
       " 'Cash',\n",
       " 'pumping',\n",
       " 'rot',\n",
       " 'incidental',\n",
       " 'drown',\n",
       " 'OPEN',\n",
       " 'bitters',\n",
       " 'tellin',\n",
       " 'te',\n",
       " 'visibly',\n",
       " 'snoring',\n",
       " 'Midwifery',\n",
       " 'End',\n",
       " 'radiates',\n",
       " 'journey',\n",
       " 'species',\n",
       " 'Gurry',\n",
       " '1842',\n",
       " 'decay',\n",
       " 'flood',\n",
       " 'claws',\n",
       " 'befall',\n",
       " 'manhandle',\n",
       " 'cruellest',\n",
       " 'winding',\n",
       " 'arising',\n",
       " 'ports',\n",
       " 'knocked',\n",
       " 'Becket',\n",
       " 'dispensed',\n",
       " 'burnish',\n",
       " 'cart',\n",
       " 'Regarding',\n",
       " 'pox',\n",
       " 'farrago',\n",
       " 'Beware',\n",
       " 'cannibal',\n",
       " 'peril',\n",
       " 'perceived',\n",
       " 'poetic',\n",
       " 'mutinying',\n",
       " 'coined',\n",
       " 'pain',\n",
       " 'manikin',\n",
       " 'fail',\n",
       " 'Delight',\n",
       " 'Surely',\n",
       " 'dream',\n",
       " 'FIFE',\n",
       " 'cramped',\n",
       " 'polish',\n",
       " 'striking',\n",
       " 'forges',\n",
       " 'mizen',\n",
       " '\"...',\n",
       " 'Fetch',\n",
       " 'quahogs',\n",
       " 'mud',\n",
       " 'footstep',\n",
       " 'interest',\n",
       " 'hopes',\n",
       " 'er',\n",
       " 'mute',\n",
       " 'idiot',\n",
       " 'fitfully',\n",
       " 'totalities',\n",
       " 'erecting',\n",
       " 'Christianity',\n",
       " 'Dar',\n",
       " 'discretion',\n",
       " 'higgledy',\n",
       " 'sitting',\n",
       " 'confusion',\n",
       " 'dissociated',\n",
       " 'honourably',\n",
       " 'Tistig',\n",
       " 'jewellers',\n",
       " 'subtleties',\n",
       " 'plumes',\n",
       " 'cooled',\n",
       " 'Postscript',\n",
       " 'gospel',\n",
       " 'years',\n",
       " 'undergraduate',\n",
       " 'deck',\n",
       " 'mustered',\n",
       " 'individuality',\n",
       " 'THERE',\n",
       " 'unprecedented',\n",
       " 'Caesarian',\n",
       " 'devils',\n",
       " 'Drive',\n",
       " 'Whiteness',\n",
       " 'interflowing',\n",
       " 'languages',\n",
       " 'unfaltering',\n",
       " 'innermost',\n",
       " 'Smut',\n",
       " 'Doesn',\n",
       " \",--'\",\n",
       " 'Swallow',\n",
       " 'flashes',\n",
       " 'baronial',\n",
       " 'Rad',\n",
       " 'valleys',\n",
       " 'Carson',\n",
       " 'circuit',\n",
       " 'discoverers',\n",
       " 'accurately',\n",
       " 'Warmest',\n",
       " 'moored',\n",
       " 'governed',\n",
       " 'prostration',\n",
       " 'BOOKS',\n",
       " 'weal',\n",
       " 'favour',\n",
       " 'clanging',\n",
       " 'securing',\n",
       " 'slapped',\n",
       " 'Colnett',\n",
       " 'ANIMAL',\n",
       " 'Strange',\n",
       " 'surely',\n",
       " 'bodied',\n",
       " 'handicrafts',\n",
       " 'inwreathing',\n",
       " 'Earthsman',\n",
       " 'agencies',\n",
       " 'sad',\n",
       " 'remainder',\n",
       " 'latter',\n",
       " 'quit',\n",
       " 'apeak',\n",
       " 'balmy',\n",
       " 'mistress',\n",
       " 'consciousness',\n",
       " 'return',\n",
       " 'Pythagorean',\n",
       " 'jewelled',\n",
       " 'mentions',\n",
       " 'Hebrew',\n",
       " 'thunderings',\n",
       " 'Issuing',\n",
       " 'mishap',\n",
       " 'bellows',\n",
       " 'insult',\n",
       " 'alluded',\n",
       " 'BOARD',\n",
       " 'IS',\n",
       " 'enjoined',\n",
       " 'zoology',\n",
       " 'ventricles',\n",
       " 'Chilian',\n",
       " 'Tennessee',\n",
       " 'leaving',\n",
       " 'muscle',\n",
       " 'TAIL',\n",
       " 'narrow',\n",
       " 'fishing',\n",
       " 'stall',\n",
       " 'crimsoned',\n",
       " 'hears',\n",
       " 'pained',\n",
       " 'cloak',\n",
       " 'God',\n",
       " 'Wondrous',\n",
       " 'foreknew',\n",
       " 'bloated',\n",
       " 'dines',\n",
       " 'pallet',\n",
       " '.\"*',\n",
       " 'basis',\n",
       " 'body',\n",
       " '16th',\n",
       " 'pronounced',\n",
       " 'humored',\n",
       " 'rogues',\n",
       " 'manufacturing',\n",
       " 'paddles',\n",
       " 'Hudson',\n",
       " 'Squire',\n",
       " 'mutiny',\n",
       " 'CHACE',\n",
       " 'combination',\n",
       " 'standest',\n",
       " 'shutter',\n",
       " 'domineered',\n",
       " 'daughters',\n",
       " 'evolution',\n",
       " 'Tarquin',\n",
       " 'aboard',\n",
       " 'requisite',\n",
       " 'Paris',\n",
       " 'lilies',\n",
       " 'LORD',\n",
       " 'clumsily',\n",
       " 'bone',\n",
       " 'Likewise',\n",
       " 'flows',\n",
       " 'brimming',\n",
       " 'entablatures',\n",
       " 'trail',\n",
       " 'undefiled',\n",
       " 'medicament',\n",
       " 'overruling',\n",
       " 'Manchester',\n",
       " 'Maury',\n",
       " 'wheeling',\n",
       " 'owning',\n",
       " 'became',\n",
       " 'lurked',\n",
       " 'Versailles',\n",
       " 'aright',\n",
       " 'swooped',\n",
       " 'Patagonia',\n",
       " 'avenues',\n",
       " 'barbarians',\n",
       " 'plaintiffs',\n",
       " 'loss',\n",
       " 'pallidness',\n",
       " 'partial',\n",
       " 'imminglings',\n",
       " 'Canst',\n",
       " 'SHIPWRECK',\n",
       " 'historian',\n",
       " 'property',\n",
       " '-',\n",
       " 'buttoning',\n",
       " 'infixed',\n",
       " 'cream',\n",
       " 'cleets',\n",
       " 'Quog',\n",
       " 'Straightway',\n",
       " 'QUIETLY',\n",
       " 'incoherences',\n",
       " 'reliance',\n",
       " 'candle',\n",
       " 'countersinking',\n",
       " 'estate',\n",
       " 'commenced',\n",
       " 'ungarnished',\n",
       " 'Horner',\n",
       " 'Instead',\n",
       " 'NUEE',\n",
       " 'cowardly',\n",
       " 'swoop',\n",
       " 'patted',\n",
       " 'premonitory',\n",
       " 'brats',\n",
       " 'unhooped',\n",
       " 'parson',\n",
       " 'vital',\n",
       " 'Lay',\n",
       " 'sullenly',\n",
       " 'translation',\n",
       " 'successfully',\n",
       " 'withered',\n",
       " 'authoritative',\n",
       " 'friction',\n",
       " 'omnivorous',\n",
       " 'spurred',\n",
       " 'fry',\n",
       " 'dogged',\n",
       " 'finding',\n",
       " 'speculative',\n",
       " 'HAILS',\n",
       " 'gloves',\n",
       " 'spade',\n",
       " 'liar',\n",
       " 'problems',\n",
       " 'listlessness',\n",
       " 'flourished',\n",
       " 'Nicholas',\n",
       " 'elevation',\n",
       " 'demonstrations',\n",
       " 'clinched',\n",
       " 'Lower',\n",
       " 'danger',\n",
       " 'creamy',\n",
       " 'catch',\n",
       " 'courteous',\n",
       " 'manoeuvred',\n",
       " 'uninvitedly',\n",
       " \"?--'\",\n",
       " 'cozening',\n",
       " 'flank',\n",
       " 'glance',\n",
       " 'unavoidable',\n",
       " 'nervous',\n",
       " 'hemmed',\n",
       " 'baptizo',\n",
       " 'hindmost',\n",
       " 'dorsal',\n",
       " 'bullies',\n",
       " 'canopy',\n",
       " 'salt',\n",
       " 'always',\n",
       " 'reality',\n",
       " 'Cain',\n",
       " 'mongrel',\n",
       " 'moves',\n",
       " 'wedged',\n",
       " 'Hyperborean',\n",
       " 'renders',\n",
       " 'vow',\n",
       " 'airley',\n",
       " 'confidential',\n",
       " 'lie',\n",
       " 'sounds',\n",
       " 'verdant',\n",
       " 'rascal',\n",
       " 'ambition',\n",
       " 'exemplary',\n",
       " 'plumage',\n",
       " 'Colossus',\n",
       " 'twitched',\n",
       " 'WHALING',\n",
       " 'kinds',\n",
       " 'befogged',\n",
       " 'impersonated',\n",
       " 'appetites',\n",
       " 'Somehow',\n",
       " 'forked',\n",
       " 'notwithstanding',\n",
       " 'await',\n",
       " 'Hell',\n",
       " 'fragmentary',\n",
       " 'commence',\n",
       " 'unquiet',\n",
       " 'accelerating',\n",
       " 'empties',\n",
       " 'plungingly',\n",
       " 'watcher',\n",
       " 'controversies',\n",
       " 'thawed',\n",
       " 'cibil',\n",
       " 'preternatural',\n",
       " 'drag',\n",
       " 'spiked',\n",
       " 'trooped',\n",
       " 'inherent',\n",
       " 'saint',\n",
       " 'suffused',\n",
       " 'fanning',\n",
       " 'operation',\n",
       " 'presume',\n",
       " 'palpableness',\n",
       " 'freshened',\n",
       " 'infesting',\n",
       " 'pride',\n",
       " 'quarrelsome',\n",
       " 'Isabella',\n",
       " 'craft',\n",
       " 'imported',\n",
       " 'Eddystone',\n",
       " 'mouldings',\n",
       " 'yarn',\n",
       " 'blind',\n",
       " 'honeycomb',\n",
       " 'endearments',\n",
       " 'V',\n",
       " 'Commodore',\n",
       " 'Adverse',\n",
       " 'quadrupeds',\n",
       " 'unyielding',\n",
       " 'pastiles',\n",
       " 'reinforced',\n",
       " 'understandings',\n",
       " 'winces',\n",
       " 'wedder',\n",
       " 'crows',\n",
       " 'slopingly',\n",
       " 'audacious',\n",
       " 'pole',\n",
       " 'poker',\n",
       " 'MOVES',\n",
       " 'loves',\n",
       " 'sexes',\n",
       " 'guns',\n",
       " 'cracked',\n",
       " 'orphan',\n",
       " 'east',\n",
       " 'came',\n",
       " 'belongs',\n",
       " 'Star',\n",
       " 'minute',\n",
       " 'LANTERNS',\n",
       " 'shrewdness',\n",
       " 'mummeries',\n",
       " 'oarsman',\n",
       " 'maddening',\n",
       " 'Holding',\n",
       " 'replacing',\n",
       " 'hogsheads',\n",
       " 'abandonedly',\n",
       " 'consternations',\n",
       " 'victor',\n",
       " 'noder',\n",
       " 'phrensied',\n",
       " 'pelisse',\n",
       " 'Cellini',\n",
       " 'essentially',\n",
       " 'log',\n",
       " 'orchard',\n",
       " 'strive',\n",
       " 'ninety',\n",
       " 'outlines',\n",
       " 'belt',\n",
       " 'Ark',\n",
       " 'pervading',\n",
       " 'planted',\n",
       " 'jacks',\n",
       " '1788',\n",
       " 'pedigree',\n",
       " 'acute',\n",
       " 'soldiers',\n",
       " ...}"
      ]
     },
     "execution_count": 56,
     "metadata": {},
     "output_type": "execute_result"
    }
   ],
   "source": [
    "#중복되는 단어들을 걸러내기\n",
    "set(moby.tokens)\n",
    "# set 은 중복이 불가능하기 때문에 set을 이용하여 중복 단어 걸러낼 수 있는 것!"
   ]
  },
  {
   "cell_type": "markdown",
   "id": "d495cfc6",
   "metadata": {},
   "source": [
    "### set\n",
    "    - {a, b, c, ....}\n",
    "    - 중복 불가능\n",
    "    - 수학의 집합과 동일한 개념\n",
    "    - 순서 없음\n",
    "    \n",
    "### list\n",
    "    - [a, b, c, d, .....]\n",
    "    - 중복 가능\n",
    "    - 순서있음"
   ]
  },
  {
   "cell_type": "code",
   "execution_count": 57,
   "id": "0606f526",
   "metadata": {},
   "outputs": [
    {
     "data": {
      "text/plain": [
       "{'benz', 'kia', 'porche'}"
      ]
     },
     "execution_count": 57,
     "metadata": {},
     "output_type": "execute_result"
    }
   ],
   "source": [
    "cars = ['kia', 'benz', 'porche', 'kia']\n",
    "set(cars)"
   ]
  },
  {
   "cell_type": "code",
   "execution_count": 59,
   "id": "f96c49d5",
   "metadata": {},
   "outputs": [
    {
     "data": {
      "text/plain": [
       "0.07406285585022564"
      ]
     },
     "execution_count": 59,
     "metadata": {},
     "output_type": "execute_result"
    }
   ],
   "source": [
    "#중복 없는 단어 수\n",
    "len(set(moby.tokens)) / len(moby.tokens)"
   ]
  },
  {
   "cell_type": "code",
   "execution_count": 61,
   "id": "258f92e9",
   "metadata": {},
   "outputs": [
    {
     "data": {
      "text/plain": [
       "['porche', 'kia', 'kia', 'benz']"
      ]
     },
     "execution_count": 61,
     "metadata": {},
     "output_type": "execute_result"
    }
   ],
   "source": [
    "#오름차순, 내림차순 정렬\n",
    "sorted (cars, reverse = True)"
   ]
  },
  {
   "cell_type": "code",
   "execution_count": null,
   "id": "8e9e7a01",
   "metadata": {},
   "outputs": [],
   "source": [
    "# mobydick 정렬하기\n",
    "sorted(set(moby.tokens), reverse = True)[:10]\n",
    "#너무 길게 뜨니까 [:10]으로 잘라 결과 값의 일부만 보이도록 하는 용도로 사용!\n",
    "#문장부호,숫자,대문자,소문자 순서임을 알 수 있다."
   ]
  },
  {
   "cell_type": "markdown",
   "id": "ad3e27e4",
   "metadata": {},
   "source": [
    "## Quiz 1.\n",
    "\n",
    "- text9 에서 lexical diversity(어휘 다양성) 계산하기\n",
    "- text6 에서 중복 없는 셋 내림차순 정렬하기\n",
    "    - 1. 앞에서 단어 10개 추출하기\n",
    "    - 2. 조건문 연습: 'z'가 있으면 대문자로 바꾸기, 'z'가 없는데 4자 이상이면 끝 글자 대문자로 바꾸기\n",
    "    \n",
    "    \n",
    "    \n",
    "## Quiz 2.\n",
    "\n",
    "- 주민등록번호, 휴대폰 번호, 이메일 입력받는다.\n",
    "    - 주민번호, 휴대폰은 숫자만 입력( - 없이)\n",
    "    - 이메일은 아이디만 입력 (@ 뒷부분 없음)\n",
    "    \n",
    "- 출력:\n",
    "    - \"당신은 {}년 {}월 {}일 출생의 {남성/여성}입니다.\"\n",
    "    - 휴대폰 번호:{}#하이픈으로 연결하기\n",
    "    - 이메일주소:{아이디}@gmail.com"
   ]
  },
  {
   "cell_type": "code",
   "execution_count": 20,
   "id": "8bb1e2c7",
   "metadata": {},
   "outputs": [
    {
     "data": {
      "text/plain": [
       "6807"
      ]
     },
     "execution_count": 20,
     "metadata": {},
     "output_type": "execute_result"
    }
   ],
   "source": [
    "# Quiz 1-1\n",
    "\n",
    "mobyquiz1 = book.text9\n",
    "mobyquiz1.tokens\n",
    "len(set(mobyquiz1.tokens))\n"
   ]
  },
  {
   "cell_type": "code",
   "execution_count": 27,
   "id": "9017e3f1",
   "metadata": {},
   "outputs": [
    {
     "data": {
      "text/plain": [
       "['zoosh',\n",
       " 'zoop',\n",
       " 'zoo',\n",
       " 'zone',\n",
       " 'zhiv',\n",
       " 'yourself',\n",
       " 'yours',\n",
       " 'your',\n",
       " 'young',\n",
       " 'you']"
      ]
     },
     "execution_count": 27,
     "metadata": {},
     "output_type": "execute_result"
    }
   ],
   "source": [
    "# Quiz 1-2-1\n",
    "\n",
    "mobyquiz2 = book.text6\n",
    "mobyquiz2.tokens\n",
    "len(set(mobyquiz2.tokens))\n",
    "#내림차순정렬\n",
    "sorted(mobyquiz2, reverse = True)\n",
    "#앞에서 단어 10개 추출\n",
    "sorted(set(mobyquiz2.tokens), reverse = True)[:10]"
   ]
  },
  {
   "cell_type": "code",
   "execution_count": 28,
   "id": "fcf20948",
   "metadata": {
    "scrolled": false
   },
   "outputs": [
    {
     "ename": "AttributeError",
     "evalue": "'list' object has no attribute 'capitalize'",
     "output_type": "error",
     "traceback": [
      "\u001b[1;31m---------------------------------------------------------------------------\u001b[0m",
      "\u001b[1;31mAttributeError\u001b[0m                            Traceback (most recent call last)",
      "\u001b[1;32m~\\AppData\\Local\\Temp/ipykernel_14748/3213855622.py\u001b[0m in \u001b[0;36m<module>\u001b[1;34m\u001b[0m\n\u001b[0;32m      4\u001b[0m     \u001b[0mprint\u001b[0m\u001b[1;33m(\u001b[0m\u001b[0mmobyquiz2\u001b[0m\u001b[1;33m.\u001b[0m\u001b[0mtokens\u001b[0m\u001b[1;33m.\u001b[0m\u001b[0mupper\u001b[0m\u001b[1;33m(\u001b[0m\u001b[1;33m)\u001b[0m\u001b[1;33m)\u001b[0m\u001b[1;33m\u001b[0m\u001b[1;33m\u001b[0m\u001b[0m\n\u001b[0;32m      5\u001b[0m \u001b[1;32melif\u001b[0m \u001b[1;34m\"z\"\u001b[0m \u001b[1;32mnot\u001b[0m \u001b[1;32min\u001b[0m \u001b[0mmobyquiz2\u001b[0m\u001b[1;33m.\u001b[0m\u001b[0mtokens\u001b[0m \u001b[1;32mand\u001b[0m \u001b[0mlen\u001b[0m\u001b[1;33m(\u001b[0m\u001b[0mmobyquiz2\u001b[0m\u001b[1;33m.\u001b[0m\u001b[0mtokens\u001b[0m\u001b[1;33m)\u001b[0m \u001b[1;33m>=\u001b[0m \u001b[1;36m4\u001b[0m\u001b[1;33m:\u001b[0m\u001b[1;33m\u001b[0m\u001b[1;33m\u001b[0m\u001b[0m\n\u001b[1;32m----> 6\u001b[1;33m     \u001b[0mprint\u001b[0m\u001b[1;33m(\u001b[0m\u001b[0mmobyquiz2\u001b[0m\u001b[1;33m.\u001b[0m\u001b[0mtokens\u001b[0m\u001b[1;33m.\u001b[0m\u001b[0mcapitalize\u001b[0m\u001b[1;33m(\u001b[0m\u001b[1;33m)\u001b[0m\u001b[1;33m)\u001b[0m\u001b[1;33m\u001b[0m\u001b[1;33m\u001b[0m\u001b[0m\n\u001b[0m",
      "\u001b[1;31mAttributeError\u001b[0m: 'list' object has no attribute 'capitalize'"
     ]
    }
   ],
   "source": [
    "# Quiz 1-2-2\n",
    "\n",
    "if \"z\" in mobyquiz2.tokens:\n",
    "    print(mobyquiz2.tokens.upper())\n",
    "elif \"z\" not in mobyquiz2.tokens and len(mobyquiz2.tokens) >= 4:\n",
    "    print(mobyquiz2.tokens.capitalize())\n",
    "    \n",
    "#진짜 모르겟다...."
   ]
  },
  {
   "cell_type": "code",
   "execution_count": 9,
   "id": "61b75047",
   "metadata": {},
   "outputs": [
    {
     "name": "stdout",
     "output_type": "stream",
     "text": [
      "주민등록번호를 입력하시오: 880818305246\n",
      "휴대폰 번호를 입력하시오: 01063644376\n",
      "이메일을 입력하시오(@ 뒷부분은 생략): kkkimel\n",
      "당신은 1988년 08월 18일 출생의 남성입니다.\n",
      "010-6364-4376\n",
      "kkkimel@gmail.com\n"
     ]
    }
   ],
   "source": [
    "# Quiz 2\n",
    "\n",
    "jumin=(input('주민등록번호를 입력하시오: '))\n",
    "ph=input('휴대폰 번호를 입력하시오: ')\n",
    "email=input('이메일을 입력하시오(@ 뒷부분은 생략): ')\n",
    "\n",
    "if int(jumin[:2]) >= 23:\n",
    "    year = '19'\n",
    "else:\n",
    "    year = '20'\n",
    "\n",
    "\n",
    "if int(jumin[6]) % 2 == 0:\n",
    "    gender = '여성'\n",
    "else:\n",
    "    gender = '남성'\n",
    "    \n",
    "\n",
    "\n",
    "print(f'당신은 {year}{jumin[:2]}년 {jumin[2:4]}월 {jumin[4:6]}일 출생의 {gender}입니다.' )\n",
    "print(f'{ph[0:3]}-{ph[3:7]}-{ph[7:11]}')\n",
    "print(f'{email}@gmail.com')\n",
    "      "
   ]
  }
 ],
 "metadata": {
  "kernelspec": {
   "display_name": "Python 3 (ipykernel)",
   "language": "python",
   "name": "python3"
  },
  "language_info": {
   "codemirror_mode": {
    "name": "ipython",
    "version": 3
   },
   "file_extension": ".py",
   "mimetype": "text/x-python",
   "name": "python",
   "nbconvert_exporter": "python",
   "pygments_lexer": "ipython3",
   "version": "3.9.7"
  }
 },
 "nbformat": 4,
 "nbformat_minor": 5
}
